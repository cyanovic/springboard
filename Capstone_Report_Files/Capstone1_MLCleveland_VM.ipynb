{
 "cells": [
  {
   "cell_type": "markdown",
   "metadata": {},
   "source": [
    "# Factors Analyzed for their Contributions to Heart Disease \n",
    "**Capstone 1 Cleveland-specific code**"
   ]
  },
  {
   "cell_type": "code",
   "execution_count": 1,
   "metadata": {},
   "outputs": [
    {
     "name": "stdout",
     "output_type": "stream",
     "text": [
      "\u001b[1m \n",
      " Table 1. Heart disease rates in key locations (from CDC.gov)\n"
     ]
    },
    {
     "data": {
      "text/html": [
       "<table border=\"1\" class=\"dataframe\">\n",
       "  <thead>\n",
       "    <tr style=\"text-align: right;\">\n",
       "      <th>Location</th>\n",
       "      <th>Heart Disease Rate</th>\n",
       "    </tr>\n",
       "  </thead>\n",
       "  <tbody>\n",
       "    <tr>\n",
       "      <td>Ohio</td>\n",
       "      <td>7.62</td>\n",
       "    </tr>\n",
       "    <tr>\n",
       "      <td>Cleveland, OH</td>\n",
       "      <td>8.76</td>\n",
       "    </tr>\n",
       "    <tr>\n",
       "      <td>California</td>\n",
       "      <td>5.30</td>\n",
       "    </tr>\n",
       "    <tr>\n",
       "      <td>Long Beach, CA</td>\n",
       "      <td>5.46</td>\n",
       "    </tr>\n",
       "  </tbody>\n",
       "</table>"
      ],
      "text/plain": [
       "<IPython.core.display.HTML object>"
      ]
     },
     "metadata": {},
     "output_type": "display_data"
    }
   ],
   "source": [
    "import pandas as pd\n",
    "import numpy as np\n",
    "import matplotlib.pyplot as plt\n",
    "from scipy import stats\n",
    "from scipy.stats.stats import pearsonr\n",
    "from scipy.stats import norm\n",
    "import seaborn as sns\n",
    "from IPython.display import display, HTML\n",
    "from mpl_toolkits.axes_grid1 import make_axes_locatable\n",
    "import itertools\n",
    "\n",
    "\n",
    "\n",
    "locationrisk = [['Ohio', 7.62], ['Cleveland, OH', 8.76], ['California', 5.30], ['Long Beach, CA', 5.46]]\n",
    "locationriskdf = pd.DataFrame(locationrisk)\n",
    "locationriskdf.columns=['Location', 'Heart Disease Rate']\n",
    "print('\\033[1m \\n Table 1. Heart disease rates in key locations (from CDC.gov)')\n",
    "display(HTML(locationriskdf.to_html(index=False)))"
   ]
  },
  {
   "cell_type": "code",
   "execution_count": 2,
   "metadata": {},
   "outputs": [
    {
     "name": "stdout",
     "output_type": "stream",
     "text": [
      "\u001b[1m \n",
      " Table 2. Heart disease feature names and their abbreviations\n"
     ]
    },
    {
     "data": {
      "text/html": [
       "<table border=\"1\" class=\"dataframe\">\n",
       "  <thead>\n",
       "    <tr style=\"text-align: right;\">\n",
       "      <th>Variable Name</th>\n",
       "      <th>Definition of Variable (from UCI Machine Learning Repository)</th>\n",
       "    </tr>\n",
       "  </thead>\n",
       "  <tbody>\n",
       "    <tr>\n",
       "      <td>age</td>\n",
       "      <td>age</td>\n",
       "    </tr>\n",
       "    <tr>\n",
       "      <td>sex</td>\n",
       "      <td>sex</td>\n",
       "    </tr>\n",
       "    <tr>\n",
       "      <td>cp</td>\n",
       "      <td>chest pain type</td>\n",
       "    </tr>\n",
       "    <tr>\n",
       "      <td>trestpbs</td>\n",
       "      <td>resting blood pressure</td>\n",
       "    </tr>\n",
       "    <tr>\n",
       "      <td>chol</td>\n",
       "      <td>cholesterol level</td>\n",
       "    </tr>\n",
       "    <tr>\n",
       "      <td>fbs</td>\n",
       "      <td>fasting blood sugar</td>\n",
       "    </tr>\n",
       "    <tr>\n",
       "      <td>restecg</td>\n",
       "      <td>resting electrocardiographic results</td>\n",
       "    </tr>\n",
       "    <tr>\n",
       "      <td>thalach</td>\n",
       "      <td>maximum heart rate</td>\n",
       "    </tr>\n",
       "    <tr>\n",
       "      <td>exang</td>\n",
       "      <td>exercise-induced angina</td>\n",
       "    </tr>\n",
       "    <tr>\n",
       "      <td>oldpeak</td>\n",
       "      <td>ST depression induced by exercise and relative to rest</td>\n",
       "    </tr>\n",
       "    <tr>\n",
       "      <td>slope</td>\n",
       "      <td>slope of the peak exercise ST segment</td>\n",
       "    </tr>\n",
       "    <tr>\n",
       "      <td>ca</td>\n",
       "      <td>coronary angiography score</td>\n",
       "    </tr>\n",
       "    <tr>\n",
       "      <td>thal</td>\n",
       "      <td>thalassemia defect</td>\n",
       "    </tr>\n",
       "    <tr>\n",
       "      <td>num</td>\n",
       "      <td>numerical heart disease score</td>\n",
       "    </tr>\n",
       "  </tbody>\n",
       "</table>"
      ],
      "text/plain": [
       "<IPython.core.display.HTML object>"
      ]
     },
     "metadata": {},
     "output_type": "display_data"
    }
   ],
   "source": [
    "variables = [['age','age'], ['sex','sex'], ['cp','chest pain type'], ['trestpbs','resting blood pressure'], \n",
    "             ['chol','cholesterol level'], ['fbs','fasting blood sugar'], \n",
    "             ['restecg','resting electrocardiographic results'], ['thalach','maximum heart rate'],\n",
    "            ['exang','exercise-induced angina'], ['oldpeak','ST depression induced by exercise and relative to rest'],\n",
    "            ['slope','slope of the peak exercise ST segment'], ['ca','coronary angiography score'], \n",
    "            ['thal','thalassemia defect'], ['num','numerical heart disease score']]\n",
    "variablesdf = pd.DataFrame(variables)\n",
    "variablesdf.columns=['Variable Name', 'Definition of Variable (from UCI Machine Learning Repository)']\n",
    "print('\\033[1m \\n Table 2. Heart disease feature names and their abbreviations')\n",
    "pd.set_option('display.max_colwidth', 70)\n",
    "display(HTML(variablesdf.to_html(index=False)))\n"
   ]
  },
  {
   "cell_type": "code",
   "execution_count": 3,
   "metadata": {},
   "outputs": [
    {
     "name": "stdout",
     "output_type": "stream",
     "text": [
      "cleveland\n",
      "    location   age  sex   cp  trestbps   chol  fbs  restecg  thalach  exang  \\\n",
      "0  Cleveland  63.0  1.0  1.0     145.0  233.0  1.0      2.0    150.0    0.0   \n",
      "1  Cleveland  67.0  1.0  4.0     160.0  286.0  0.0      2.0    108.0    1.0   \n",
      "2  Cleveland  67.0  1.0  4.0     120.0  229.0  0.0      2.0    129.0    1.0   \n",
      "3  Cleveland  37.0  1.0  3.0     130.0  250.0  0.0      0.0    187.0    0.0   \n",
      "4  Cleveland  41.0  0.0  2.0     130.0  204.0  0.0      2.0    172.0    0.0   \n",
      "\n",
      "   oldpeak  slope   ca  thal  num  \n",
      "0      2.3    3.0  0.0   6.0    0  \n",
      "1      1.5    2.0  3.0   3.0    2  \n",
      "2      2.6    2.0  2.0   7.0    1  \n",
      "3      3.5    3.0  0.0   3.0    0  \n",
      "4      1.4    1.0  0.0   3.0    0  \n",
      "Index(['location', 'age', 'sex', 'cp', 'trestbps', 'chol', 'fbs', 'restecg',\n",
      "       'thalach', 'exang', 'oldpeak', 'slope', 'ca', 'thal', 'num'],\n",
      "      dtype='object')\n",
      "<class 'pandas.core.frame.DataFrame'>\n",
      "RangeIndex: 303 entries, 0 to 302\n",
      "Data columns (total 15 columns):\n",
      "location    303 non-null object\n",
      "age         303 non-null float64\n",
      "sex         303 non-null float64\n",
      "cp          303 non-null float64\n",
      "trestbps    303 non-null float64\n",
      "chol        303 non-null float64\n",
      "fbs         303 non-null float64\n",
      "restecg     303 non-null float64\n",
      "thalach     303 non-null float64\n",
      "exang       303 non-null float64\n",
      "oldpeak     303 non-null float64\n",
      "slope       303 non-null float64\n",
      "ca          299 non-null float64\n",
      "thal        301 non-null float64\n",
      "num         303 non-null int64\n",
      "dtypes: float64(13), int64(1), object(1)\n",
      "memory usage: 35.6+ KB\n",
      "None\n"
     ]
    }
   ],
   "source": [
    "#Data import, cleaning steps, and consolidation. Code for info, head, and component histograms are available here,\n",
    "#but coded out so as to simplify output. However, they can be viewed in output by removing sets of triple quotation\n",
    "#marks.\n",
    "\n",
    "#___________________________________________cleveland import_______________________________________________________________________________________________________\n",
    "cleveland_df = pd.read_csv('/Users/vickimoore/Desktop/Springboard/UCIheartdiseasedata/UCI_heart_newDL/Processed/processed_cleveland_data.csv', header=None, na_values = '?')\n",
    "cleveland_df.columns = ['age', 'sex', 'cp', 'trestbps', 'chol', 'fbs', 'restecg', 'thalach', 'exang', 'oldpeak', 'slope', 'ca', 'thal', 'num']\n",
    "cleveland_df['sex'] = cleveland_df['sex'].astype(float)\n",
    "cleveland_df['cp'] = cleveland_df['cp'].astype(float)\n",
    "cleveland_df['fbs'] = cleveland_df['fbs'].astype(float)\n",
    "cleveland_df['restecg'] = cleveland_df['restecg'].astype(float)\n",
    "cleveland_df['exang'] = cleveland_df['exang'].astype(float)\n",
    "cleveland_df['slope'] = cleveland_df['slope'].astype(float)\n",
    "cleveland_df['ca'] = cleveland_df['ca'].astype(float) #throws errors over the NaN for int, just changing these to floats for now\n",
    "cleveland_df['thal'] = cleveland_df['thal'].astype(float)\n",
    "cleveland_df.insert(0, 'location', 'Cleveland')\n",
    "\n",
    "print('cleveland')\n",
    "print(cleveland_df.head()) \n",
    "print(cleveland_df.columns) \n",
    "print(cleveland_df.info()) \n",
    "\n",
    "\n",
    "\n",
    "#___________________________________________hungarian import_______________________________________________________________________________________________________\n",
    "hungarian_df = pd.read_csv('/Users/vickimoore/Desktop/Springboard/UCIheartdiseasedata/UCI_heart_newDL/Processed/reprocessed_hungarian_data.txt', sep=\" \", header=None, na_values = '-9.0')\n",
    "hungarian_df.columns = ['age', 'sex', 'cp', 'trestbps', 'chol', 'fbs', 'restecg', 'thalach', 'exang', 'oldpeak', 'slope', 'ca', 'thal', 'num']\n",
    "hungarian_df['sex'] = hungarian_df['sex'].astype(float)\n",
    "hungarian_df['cp'] = hungarian_df['cp'].astype(float)\n",
    "hungarian_df['fbs'] = hungarian_df['fbs'].astype(float)\n",
    "hungarian_df['restecg'] = hungarian_df['restecg'].astype(float)\n",
    "hungarian_df['exang'] = hungarian_df['exang'].astype(float)\n",
    "hungarian_df['slope'] = hungarian_df['slope'].astype(float)\n",
    "hungarian_df['ca'] = hungarian_df['ca'].astype(float)\n",
    "hungarian_df['thal'] = hungarian_df['thal'].astype(float)\n",
    "hungarian_df = hungarian_df[np.isfinite(hungarian_df['num'])]\n",
    "hungarian_df['num'] = hungarian_df['num'].astype(int)\n",
    "hungarian_df.insert(0, 'location', 'Hungary')\n",
    "'''\n",
    "print('hungarian')\n",
    "print(hungarian_df.head()) \n",
    "print(hungarian_df.columns) \n",
    "print(hungarian_df.info()) \n",
    "'''\n",
    "\n",
    "#___________________________________________long beach import_______________________________________________________________________________________________________\n",
    "long_beach_df = pd.read_csv('/Users/vickimoore/Desktop/Springboard/UCIheartdiseasedata/UCI_heart_newDL/Processed/processed_va_data.csv', header=None, na_values = '?')\n",
    "long_beach_df.columns = ['age', 'sex', 'cp', 'trestbps', 'chol', 'fbs', 'restecg', 'thalach', 'exang', 'oldpeak', 'slope', 'ca', 'thal', 'num']\n",
    "long_beach_df['age'] = long_beach_df['age'].astype(float)\n",
    "long_beach_df['fbs'] = long_beach_df['fbs'].astype(float)\n",
    "long_beach_df['exang'] = long_beach_df['exang'].astype(float)\n",
    "long_beach_df['slope'] = long_beach_df['slope'].astype(float)\n",
    "long_beach_df['ca'] = long_beach_df['ca'].astype(float)\n",
    "long_beach_df['thal'] = long_beach_df['thal'].astype(float)\n",
    "long_beach_df.insert(0, 'location', 'Long_Beach')\n",
    "'''\n",
    "print('long beach')\n",
    "print(long_beach_df.head()) \n",
    "print(long_beach_df.columns) \n",
    "print(long_beach_df.info()) \n",
    "'''\n",
    "\n",
    "#get rid of any entry with NaN in num.\n",
    "cleveland_df = cleveland_df[np.isfinite(cleveland_df['num'])]\n",
    "hungarian_df = hungarian_df[np.isfinite(hungarian_df['num'])]\n",
    "long_beach_df = long_beach_df[np.isfinite(long_beach_df['num'])]\n",
    "\n",
    "\n",
    "#___________________________________________ca distribution and fix na in hungarian, switch out NaN's_______________________________________________________________________________________________________\n",
    "'''\n",
    "cleveland_df['ca'].plot(kind='hist', color='blue')\n",
    "plt.show()\n",
    "hungarian_df['ca'].plot(kind='hist', color='red')\n",
    "plt.show()\n",
    "long_beach_df['ca'].plot(kind='hist', color='purple')\n",
    "plt.show()\n",
    "\n",
    "print(hungarian_df['ca'][30:50])\n",
    "hungarian_df['ca'][39] = np.nan\n",
    "print(hungarian_df['ca'][30:50])\n",
    "cleveland_df['ca'].plot(kind='hist', color='blue')\n",
    "plt.show()\n",
    "hungarian_df['ca'].plot(kind='hist', color='red')\n",
    "plt.show()\n",
    "long_beach_df['ca'].plot(kind='hist', color='purple')\n",
    "plt.show()\n",
    "print('ca')\n",
    "cleveland_df['ca'].plot(kind='hist', color='blue')\n",
    "hungarian_df['ca'].plot(kind='hist', color='red')\n",
    "long_beach_df['ca'].plot(kind='hist', color='purple')\n",
    "plt.show()\n",
    "'''\n",
    "\n",
    "# ca was discrete and non-normal. use mode.\n",
    "ca_mode_cleveland = cleveland_df.ca.mode()\n",
    "cleveland_df['ca'] = cleveland_df.ca.fillna(ca_mode_cleveland[0])\n",
    "#print(cleveland_df.info())\n",
    "ca_mode_hungarian = hungarian_df.ca.mode()\n",
    "hungarian_df['ca'] = hungarian_df.ca.fillna(ca_mode_hungarian[0])\n",
    "#print(hungarian_df.info())\n",
    "ca_mode_long_beach = long_beach_df.ca.mode()\n",
    "long_beach_df['ca'] = long_beach_df.ca.fillna(ca_mode_long_beach[0])\n",
    "'''\n",
    "print(long_beach_df.info())\n",
    "print('age')\n",
    "cleveland_df['age'].plot(kind='hist', color='blue', alpha=0.7)\n",
    "hungarian_df['age'].plot(kind='hist', color='red', alpha=0.7)\n",
    "long_beach_df['age'].plot(kind='hist', color='purple', alpha=0.7)\n",
    "plt.show()\n",
    "'''\n",
    "#dist varies by pop but overall mostly normal, slight skew to right. continuous var. will use median for missing.\n",
    "age_median_cleveland = cleveland_df.age.median()\n",
    "cleveland_df['age'] = cleveland_df.age.fillna(age_median_cleveland)\n",
    "age_median_hungarian = hungarian_df.age.median()\n",
    "hungarian_df['age'] = hungarian_df.age.fillna(age_median_hungarian)\n",
    "age_median_long_beach = long_beach_df.age.median()\n",
    "long_beach_df['age'] = long_beach_df.age.fillna(age_median_long_beach)\n",
    "'''\n",
    "print('sex')\n",
    "cleveland_df['sex'].plot(kind='hist', color='blue', alpha=0.7)\n",
    "hungarian_df['sex'].plot(kind='hist', color='red', alpha=0.7)\n",
    "long_beach_df['sex'].plot(kind='hist', color='purple', alpha=0.7)\n",
    "plt.show()\n",
    "'''\n",
    "#discrete and non-normal. mostly male. use mode for right now, subject to change.\n",
    "sex_mode_cleveland = cleveland_df.sex.mode()\n",
    "cleveland_df['sex'] = cleveland_df.sex.fillna(sex_mode_cleveland[0])\n",
    "sex_mode_hungarian = hungarian_df.sex.mode()\n",
    "hungarian_df['sex'] = hungarian_df.sex.fillna(sex_mode_hungarian[0])\n",
    "sex_mode_long_beach = long_beach_df.sex.mode()\n",
    "long_beach_df['sex'] = long_beach_df.sex.fillna(sex_mode_long_beach[0])\n",
    "'''\n",
    "print('cp')\n",
    "cleveland_df['cp'].plot(kind='hist', color='blue', alpha=0.7)\n",
    "hungarian_df['cp'].plot(kind='hist', color='red', alpha=0.7)\n",
    "long_beach_df['cp'].plot(kind='hist', color='purple', alpha=0.7)\n",
    "plt.show()\n",
    "'''\n",
    "#discrete and non-normal, but hungarian looks different from others. either median or mode, not sure yet. just go with median right now.\n",
    "cp_median_cleveland = cleveland_df.cp.median()\n",
    "cleveland_df['cp'] = cleveland_df.cp.fillna(cp_median_cleveland)\n",
    "cp_median_hungarian = hungarian_df.cp.median()\n",
    "hungarian_df['cp'] = hungarian_df.cp.fillna(cp_median_hungarian)\n",
    "cp_median_long_beach = long_beach_df.cp.median()\n",
    "long_beach_df['cp'] = long_beach_df.cp.fillna(cp_median_long_beach)\n",
    "'''\n",
    "print('trestbps')\n",
    "cleveland_df['trestbps'].plot(kind='hist', color='blue', alpha=0.7)\n",
    "hungarian_df['trestbps'].plot(kind='hist', color='red', alpha=0.7)\n",
    "long_beach_df['trestbps'].plot(kind='hist', color='purple', alpha=0.7)\n",
    "plt.show()\n",
    "'''\n",
    "#continuous and close enough to normal. use median.\n",
    "trestbps_median_cleveland = cleveland_df.trestbps.median()\n",
    "cleveland_df['trestbps'] = cleveland_df.trestbps.fillna(trestbps_median_cleveland)\n",
    "trestbps_median_hungarian = hungarian_df.trestbps.median()\n",
    "hungarian_df['trestbps'] = hungarian_df.trestbps.fillna(trestbps_median_hungarian)\n",
    "trestbps_median_long_beach = long_beach_df.trestbps.median()\n",
    "long_beach_df['trestbps'] = long_beach_df.trestbps.fillna(trestbps_median_long_beach)\n",
    "'''\n",
    "print('chol')\n",
    "cleveland_df['chol'].plot(kind='hist', color='blue', alpha=0.7)\n",
    "hungarian_df['chol'].plot(kind='hist', color='red', alpha=0.7)\n",
    "long_beach_df['chol'].plot(kind='hist', color='purple', alpha=0.7)\n",
    "plt.show()\n",
    "'''\n",
    "#continuous and close enough to normal. use median.\n",
    "chol_median_cleveland = cleveland_df.chol.median()\n",
    "cleveland_df['chol'] = cleveland_df.chol.fillna(chol_median_cleveland)\n",
    "chol_median_hungarian = hungarian_df.chol.median()\n",
    "hungarian_df['chol'] = hungarian_df.chol.fillna(chol_median_hungarian)\n",
    "chol_median_long_beach = long_beach_df.chol.median()\n",
    "long_beach_df['chol'] = long_beach_df.chol.fillna(chol_median_long_beach)\n",
    "'''\n",
    "print('fbs')\n",
    "cleveland_df['fbs'].plot(kind='hist', color='blue', alpha=0.7)\n",
    "hungarian_df['fbs'].plot(kind='hist', color='red', alpha=0.7)\n",
    "long_beach_df['fbs'].plot(kind='hist', color='purple', alpha=0.7)\n",
    "plt.show()\n",
    "'''\n",
    "#discrete and non-normal. vast majority one value. use mode.\n",
    "fbs_mode_cleveland = cleveland_df.fbs.mode()\n",
    "cleveland_df['fbs'] = cleveland_df.fbs.fillna(fbs_mode_cleveland[0])\n",
    "fbs_mode_hungarian = hungarian_df.fbs.mode()\n",
    "hungarian_df['fbs'] = hungarian_df.fbs.fillna(fbs_mode_hungarian[0])\n",
    "fbs_mode_long_beach = long_beach_df.fbs.mode()\n",
    "long_beach_df['fbs'] = long_beach_df.fbs.fillna(fbs_mode_long_beach[0])\n",
    "'''\n",
    "print('restecg')\n",
    "cleveland_df['restecg'].plot(kind='hist', color='blue', alpha=0.7)\n",
    "hungarian_df['restecg'].plot(kind='hist', color='red', alpha=0.7)\n",
    "long_beach_df['restecg'].plot(kind='hist', color='purple', alpha=0.7)\n",
    "plt.show()\n",
    "'''\n",
    "#looks discrete and non-normal. varies by population. \n",
    "#unclear whether median or mode best yet. just go with median right now.\n",
    "restecg_median_cleveland = cleveland_df.restecg.median()\n",
    "cleveland_df['restecg'] = cleveland_df.restecg.fillna(restecg_median_cleveland)\n",
    "restecg_median_hungarian = hungarian_df.restecg.median()\n",
    "hungarian_df['restecg'] = hungarian_df.restecg.fillna(restecg_median_hungarian)\n",
    "restecg_median_long_beach = long_beach_df.restecg.median()\n",
    "long_beach_df['restecg'] = long_beach_df.restecg.fillna(restecg_median_long_beach)\n",
    "'''\n",
    "print('thalach')\n",
    "#sns.set()\n",
    "#sns.distplot(cleveland_df['thalach'], color='blue', hist=True, bins=10, fit=norm)\n",
    "#sns.distplot(hungarian_df['thalach'], color='red', hist=True, bins=10, fit=norm)\n",
    "#sns.distplot(long_beach_df['thalach'], color='purple', hist=True, bins=10, fit=norm)\n",
    "cleveland_df['thalach'].plot(kind='hist', color='blue', alpha=0.7)\n",
    "hungarian_df['thalach'].plot(kind='hist', color='red', alpha=0.7)\n",
    "long_beach_df['thalach'].plot(kind='hist', color='purple', alpha=0.7)\n",
    "plt.show()\n",
    "'''\n",
    "#continuous but dist depends on population. use median for now.\n",
    "thalach_median_cleveland = cleveland_df.thalach.median()\n",
    "cleveland_df['thalach'] = cleveland_df.thalach.fillna(thalach_median_cleveland)\n",
    "thalach_median_hungarian = hungarian_df.thalach.median()\n",
    "hungarian_df['thalach'] = hungarian_df.thalach.fillna(thalach_median_hungarian)\n",
    "thalach_median_long_beach = long_beach_df.thalach.median()\n",
    "long_beach_df['thalach'] = long_beach_df.thalach.fillna(thalach_median_long_beach)\n",
    "'''\n",
    "print('exang')\n",
    "cleveland_df['exang'].plot(kind='hist', color='blue', alpha=0.7)\n",
    "hungarian_df['exang'].plot(kind='hist', color='red', alpha=0.7)\n",
    "long_beach_df['exang'].plot(kind='hist', color='purple', alpha=0.7)\n",
    "plt.show()\n",
    "'''\n",
    "#exang discrete and non-normal, but depends on pop. probably use mode for each pop.\n",
    "exang_mode_cleveland = cleveland_df.exang.mode()\n",
    "cleveland_df['exang'] = cleveland_df.exang.fillna(exang_mode_cleveland[0])\n",
    "exang_mode_hungarian = hungarian_df.exang.mode()\n",
    "hungarian_df['exang'] = hungarian_df.exang.fillna(exang_mode_hungarian[0])\n",
    "exang_mode_long_beach = long_beach_df.exang.mode()\n",
    "long_beach_df['exang'] = long_beach_df.exang.fillna(exang_mode_long_beach[0])\n",
    "'''\n",
    "print('oldpeak')\n",
    "cleveland_df['oldpeak'].plot(kind='hist', color='blue', alpha=0.7)\n",
    "hungarian_df['oldpeak'].plot(kind='hist', color='red', alpha=0.7)\n",
    "long_beach_df['oldpeak'].plot(kind='hist', color='purple', alpha=0.7)\n",
    "plt.show()\n",
    "'''\n",
    "#continuous but non-normal, skewed to 0. use mode or median, use median for now.\n",
    "oldpeak_median_cleveland = cleveland_df.oldpeak.median()\n",
    "cleveland_df['oldpeak'] = cleveland_df.oldpeak.fillna(oldpeak_median_cleveland)\n",
    "oldpeak_median_hungarian = hungarian_df.oldpeak.median()\n",
    "hungarian_df['oldpeak'] = hungarian_df.oldpeak.fillna(oldpeak_median_hungarian)\n",
    "oldpeak_median_long_beach = long_beach_df.oldpeak.median()\n",
    "long_beach_df['oldpeak'] = long_beach_df.oldpeak.fillna(oldpeak_median_long_beach)\n",
    "'''\n",
    "print('slope')\n",
    "cleveland_df['slope'].plot(kind='hist', color='blue', alpha=0.7)\n",
    "hungarian_df['slope'].plot(kind='hist', color='red', alpha=0.7)\n",
    "long_beach_df['slope'].plot(kind='hist', color='purple', alpha=0.7)\n",
    "plt.show()\n",
    "'''\n",
    "#discrete and non-normal but not really skewed. use median.\n",
    "slope_median_cleveland = cleveland_df.slope.median()\n",
    "cleveland_df['slope'] = cleveland_df.slope.fillna(slope_median_cleveland)\n",
    "slope_median_hungarian = hungarian_df.slope.median()\n",
    "hungarian_df['slope'] = hungarian_df.slope.fillna(slope_median_hungarian)\n",
    "slope_median_long_beach = long_beach_df.slope.median()\n",
    "long_beach_df['slope'] = long_beach_df.slope.fillna(slope_median_long_beach)\n",
    "'''\n",
    "print('thal')\n",
    "cleveland_df['thal'].plot(kind='hist', color='blue', alpha=0.7)\n",
    "hungarian_df['thal'].plot(kind='hist', color='red', alpha=0.7)\n",
    "long_beach_df['thal'].plot(kind='hist', color='purple', alpha=0.7)\n",
    "plt.show()\n",
    "'''\n",
    "#discrete and non-normal. but evenly split. maybe median? \n",
    "#just to keep with current convention of erring on side of median, use median right now.\n",
    "thal_median_cleveland = cleveland_df.thal.median()\n",
    "cleveland_df['thal'] = cleveland_df.thal.fillna(thal_median_cleveland)\n",
    "thal_median_hungarian = hungarian_df.thal.median()\n",
    "hungarian_df['thal'] = hungarian_df.thal.fillna(thal_median_hungarian)\n",
    "thal_median_long_beach = long_beach_df.thal.median()\n",
    "long_beach_df['thal'] = long_beach_df.thal.fillna(thal_median_long_beach)\n",
    "'''\n",
    "#TARGET variable is num\n",
    "print('num')\n",
    "cleveland_df['num'].plot(kind='hist', color='blue', alpha=0.7)\n",
    "hungarian_df['num'].plot(kind='hist', color='red', alpha=0.7)\n",
    "long_beach_df['num'].plot(kind='hist', color='purple', alpha=0.7)\n",
    "plt.show()\n",
    "cleveland_df['num'].plot(kind='hist', color='blue')\n",
    "plt.show()\n",
    "hungarian_df['num'].plot(kind='hist', color='red')\n",
    "plt.show()\n",
    "long_beach_df['num'].plot(kind='hist', color='purple')\n",
    "plt.show()\n",
    "'''\n",
    "#added location columns to each up above so as to combine files here.\n",
    "all_three_df = pd.concat([cleveland_df, hungarian_df, long_beach_df], ignore_index=True)\n",
    "all_three_df = all_three_df[np.isfinite(all_three_df['num'])]\n",
    "#print(all_three_df)\n",
    "#___________________________________________set dtypes_____________________________________________________________________________________________________________\n",
    "all_three_df['location'] = all_three_df['location'].astype(str)\n",
    "all_three_df['age'] = all_three_df['age'].astype(float)\n",
    "all_three_df['sex'] = all_three_df['sex'].astype(int)\n",
    "all_three_df['cp'] = all_three_df['cp'].astype(int)\n",
    "all_three_df['trestbps'] = all_three_df['trestbps'].astype(float)\n",
    "all_three_df['chol'] = all_three_df['chol'].astype(float)\n",
    "all_three_df['fbs'] = all_three_df['fbs'].astype(int)\n",
    "all_three_df['restecg'] = all_three_df['restecg'].astype(int)\n",
    "all_three_df['thalach'] = all_three_df['thalach'].astype(float)\n",
    "all_three_df['exang'] = all_three_df['exang'].astype(int)\n",
    "all_three_df['oldpeak'] = all_three_df['oldpeak'].astype(float)\n",
    "all_three_df['slope'] = all_three_df['slope'].astype(int)\n",
    "all_three_df['ca'] = all_three_df['ca'].astype(int)\n",
    "all_three_df['thal'] = all_three_df['thal'].astype(int)\n",
    "all_three_df['num'] = all_three_df['num'].astype(int) \n",
    "#print(all_three_df.info())\n",
    "\n"
   ]
  },
  {
   "cell_type": "markdown",
   "metadata": {},
   "source": [
    "___"
   ]
  },
  {
   "cell_type": "code",
   "execution_count": 4,
   "metadata": {},
   "outputs": [
    {
     "data": {
      "image/png": "[encoded data removed]",
      "text/plain": [
       "<matplotlib.figure.Figure at 0x110545668>"
      ]
     },
     "metadata": {},
     "output_type": "display_data"
    }
   ],
   "source": [
    "sns.set(font_scale=1.20)\n",
    "all_three_df.hist()\n",
    "plt.suptitle('\\nFigure 1. Histograms of heart disease analysis features', fontweight='bold')\n",
    "plt.tight_layout()\n",
    "plt.subplots_adjust(top=0.80)\n",
    "plt.show()"
   ]
  },
  {
   "cell_type": "code",
   "execution_count": 5,
   "metadata": {
    "scrolled": true
   },
   "outputs": [
    {
     "name": "stdout",
     "output_type": "stream",
     "text": [
      "Basic Random Forest accuracy on training data: 0.987\n",
      "Basic Random Forest accuracy on test data: 0.526\n",
      "             precision    recall  f1-score   support\n",
      "\n",
      "          0       0.71      0.91      0.80        33\n",
      "          1       0.18      0.23      0.20        13\n",
      "          2       0.45      0.29      0.36        17\n",
      "          3       0.33      0.20      0.25        10\n",
      "          4       0.00      0.00      0.00         3\n",
      "\n",
      "avg / total       0.49      0.53      0.49        76\n",
      "\n"
     ]
    },
    {
     "name": "stderr",
     "output_type": "stream",
     "text": [
      "/Users/vickimoore/anaconda/lib/python3.6/site-packages/sklearn/metrics/classification.py:1113: UndefinedMetricWarning: Precision and F-score are ill-defined and being set to 0.0 in labels with no predicted samples.\n",
      "  'precision', 'predicted', average, warn_for)\n"
     ]
    }
   ],
   "source": [
    "from sklearn.model_selection import train_test_split\n",
    "from sklearn.ensemble import RandomForestClassifier\n",
    "from sklearn.metrics import accuracy_score\n",
    "from sklearn.metrics import classification_report, confusion_matrix\n",
    "cleveland_dfnoL = cleveland_df.drop('location', axis=1)\n",
    "X = cleveland_dfnoL.drop('num', axis = 1)\n",
    "# Split the data into a training and test set.\n",
    "#Xlr, Xtestlr, ylr, ytestlr = train_test_split(dflog[['Height','Weight']].values, (dflog.Gender == \"Male\").values,random_state=5)\n",
    "\n",
    "#clf = LogisticRegression()\n",
    "# Fit the model on the trainng data.\n",
    "#clf.fit(Xlr, ylr)\n",
    "# Print the accuracy from the testing data.\n",
    "#print(accuracy_score(clf.predict(Xtestlr), ytestlr))\n",
    "\n",
    "CX_train, CX_test, cy_train, cy_test = train_test_split(X, cleveland_dfnoL.num, random_state=29)\n",
    "rfcc = RandomForestClassifier()\n",
    "rfcc.fit(CX_train, cy_train)\n",
    "print('Basic Random Forest accuracy on training data:',round(rfcc.score(CX_train, cy_train),3))\n",
    "print('Basic Random Forest accuracy on test data:',round(rfcc.score(CX_test, cy_test),3))\n",
    "\n",
    "rfcc_pred = rfcc.predict(CX_test)\n",
    "print(classification_report(cy_test,rfcc_pred))"
   ]
  },
  {
   "cell_type": "code",
   "execution_count": 6,
   "metadata": {},
   "outputs": [
    {
     "name": "stdout",
     "output_type": "stream",
     "text": [
      "{'max_depth': 9, 'min_samples_leaf': 10, 'n_estimators': 9}\n",
      "0.625550660793\n",
      "RandomForestClassifier(bootstrap=True, class_weight=None, criterion='gini',\n",
      "            max_depth=9, max_features='auto', max_leaf_nodes=None,\n",
      "            min_impurity_split=1e-07, min_samples_leaf=10,\n",
      "            min_samples_split=2, min_weight_fraction_leaf=0.0,\n",
      "            n_estimators=9, n_jobs=1, oob_score=False, random_state=None,\n",
      "            verbose=0, warm_start=False)\n"
     ]
    }
   ],
   "source": [
    "from sklearn.model_selection import GridSearchCV\n",
    "param_grid = {'n_estimators' : [1,3,9,18,36,96,200,600], 'max_depth': [1,3,9], 'min_samples_leaf': [1,3,10]}\n",
    "CV_rfcc = GridSearchCV(estimator=rfcc, param_grid=param_grid, cv=5)\n",
    "CV_rfcc.fit(CX_train, cy_train)\n",
    "print(CV_rfcc.best_params_)\n",
    "print(CV_rfcc.best_score_)\n",
    "print(CV_rfcc.best_estimator_)"
   ]
  },
  {
   "cell_type": "code",
   "execution_count": 7,
   "metadata": {},
   "outputs": [
    {
     "name": "stdout",
     "output_type": "stream",
     "text": [
      "Tuned random forest accuracy on training data: 0.648\n",
      "Tuned random forest accuracy on test data: 0.513\n",
      "\n",
      "Classification report:\n",
      "              precision    recall  f1-score   support\n",
      "\n",
      "          0       0.55      1.00      0.71        33\n",
      "          1       0.29      0.15      0.20        13\n",
      "          2       0.00      0.00      0.00        17\n",
      "          3       0.44      0.40      0.42        10\n",
      "          4       0.00      0.00      0.00         3\n",
      "\n",
      "avg / total       0.35      0.51      0.40        76\n",
      "\n",
      "Confusion matrix:\n",
      " [[33  0  0  0  0]\n",
      " [ 8  2  0  3  0]\n",
      " [11  4  0  2  0]\n",
      " [ 5  1  0  4  0]\n",
      " [ 3  0  0  0  0]]\n"
     ]
    },
    {
     "name": "stderr",
     "output_type": "stream",
     "text": [
      "/Users/vickimoore/anaconda/lib/python3.6/site-packages/sklearn/metrics/classification.py:1113: UndefinedMetricWarning: Precision and F-score are ill-defined and being set to 0.0 in labels with no predicted samples.\n",
      "  'precision', 'predicted', average, warn_for)\n"
     ]
    },
    {
     "data": {
      "text/plain": [
       "'\\nfeature_namesfor = cleveland_dfnoL.columns\\nimportancesfor = rfcc_tuned.feature_importances_\\nstdfor = np.std([tree.feature_importances_ for tree in rfcc_tuned.estimators_],axis=0)\\nindicesfor = np.argsort(importancesfor)[::-1]\\nprint(\"Feature ranking:\")\\nfor f in range(X.shape[1]):\\n    print(\"%d. feature %d (%f)\" % (f + 1, indicesfor[f], importancesfor[indicesfor[f]]))\\nplt.figure()\\nplt.title(\"Feature importances\")\\nplt.bar(range(X.shape[1]), importancesfor[indicesfor], color=\"g\", yerr=stdfor[indicesfor], align=\"center\")\\nfeature_namesfor = cleveland_dfnoL.columns\\nplt.xticks(range(X.shape[1]), feature_namesfor)\\nplt.xlim([-1, X.shape[1]])\\nplt.show()\\n'"
      ]
     },
     "execution_count": 7,
     "metadata": {},
     "output_type": "execute_result"
    }
   ],
   "source": [
    "from sklearn.metrics import classification_report, confusion_matrix\n",
    "#using parameters found by Grid Search plus feature selection by square root\n",
    "#rfcc_tuned = RandomForestClassifier(CV_rfcc.best_estimator_)\n",
    "rfcc_tuned = CV_rfcc.best_estimator_\n",
    "rfcc_tuned.fit(CX_train, cy_train)\n",
    "cy_true, cy_predict = cy_test, rfcc_tuned.predict(CX_test)\n",
    "print('Tuned random forest accuracy on training data:',round(rfcc_tuned.score(CX_train, cy_train),3))\n",
    "print('Tuned random forest accuracy on test data:',round(rfcc_tuned.score(CX_test, cy_test),3))\n",
    "print('\\nClassification report:\\n',classification_report(cy_true,cy_predict))\n",
    "print('Confusion matrix:\\n',confusion_matrix(cy_true,cy_predict))\n",
    "'''\n",
    "feature_namesfor = cleveland_dfnoL.columns\n",
    "importancesfor = rfcc_tuned.feature_importances_\n",
    "stdfor = np.std([tree.feature_importances_ for tree in rfcc_tuned.estimators_],axis=0)\n",
    "indicesfor = np.argsort(importancesfor)[::-1]\n",
    "print(\"Feature ranking:\")\n",
    "for f in range(X.shape[1]):\n",
    "    print(\"%d. feature %d (%f)\" % (f + 1, indicesfor[f], importancesfor[indicesfor[f]]))\n",
    "plt.figure()\n",
    "plt.title(\"Feature importances\")\n",
    "plt.bar(range(X.shape[1]), importancesfor[indicesfor], color=\"g\", yerr=stdfor[indicesfor], align=\"center\")\n",
    "feature_namesfor = cleveland_dfnoL.columns\n",
    "plt.xticks(range(X.shape[1]), feature_namesfor)\n",
    "plt.xlim([-1, X.shape[1]])\n",
    "plt.show()\n",
    "'''"
   ]
  },
  {
   "cell_type": "code",
   "execution_count": 8,
   "metadata": {},
   "outputs": [
    {
     "name": "stdout",
     "output_type": "stream",
     "text": [
      "Accuracy on training data: 0.586\n",
      "Accuracy on test data: 0.526\n",
      "             precision    recall  f1-score   support\n",
      "\n",
      "          0       0.71      0.91      0.80        33\n",
      "          1       0.25      0.15      0.19        13\n",
      "          2       0.33      0.29      0.31        17\n",
      "          3       0.27      0.30      0.29        10\n",
      "          4       0.00      0.00      0.00         3\n",
      "\n",
      "avg / total       0.46      0.53      0.49        76\n",
      "\n"
     ]
    },
    {
     "name": "stderr",
     "output_type": "stream",
     "text": [
      "/Users/vickimoore/anaconda/lib/python3.6/site-packages/sklearn/metrics/classification.py:1113: UndefinedMetricWarning: Precision and F-score are ill-defined and being set to 0.0 in labels with no predicted samples.\n",
      "  'precision', 'predicted', average, warn_for)\n"
     ]
    }
   ],
   "source": [
    "from sklearn.naive_bayes import MultinomialNB\n",
    "CX1_train, CX1_test, cy1_train, cy1_test = train_test_split(X, cleveland_dfnoL.num, random_state=29)\n",
    "mnbc = MultinomialNB()\n",
    "mnbc.fit(CX1_train, cy1_train)\n",
    "print('Accuracy on training data:',round(mnbc.score(CX1_train, cy1_train),3))\n",
    "print('Accuracy on test data:',round(mnbc.score(CX1_test, cy1_test),3))\n",
    "\n",
    "mnbc_pred = mnbc.predict(CX1_test)\n",
    "print(classification_report(cy1_test,mnbc_pred))"
   ]
  },
  {
   "cell_type": "code",
   "execution_count": 9,
   "metadata": {},
   "outputs": [
    {
     "name": "stdout",
     "output_type": "stream",
     "text": [
      "Accuracy on training data: 0.678\n",
      "Accuracy on test data: 0.513\n",
      "             precision    recall  f1-score   support\n",
      "\n",
      "          0       0.88      0.88      0.88        33\n",
      "          1       0.25      0.38      0.30        13\n",
      "          2       0.33      0.24      0.28        17\n",
      "          3       0.14      0.10      0.12        10\n",
      "          4       0.00      0.00      0.00         3\n",
      "\n",
      "avg / total       0.52      0.51      0.51        76\n",
      "\n"
     ]
    }
   ],
   "source": [
    "from sklearn.naive_bayes import GaussianNB\n",
    "CX2_train, CX2_test, cy2_train, cy2_test = train_test_split(X, cleveland_dfnoL.num, random_state=29)\n",
    "gnbc = GaussianNB()\n",
    "gnbc.fit(CX2_train, cy2_train)\n",
    "print('Accuracy on training data:',round(gnbc.score(CX2_train, cy2_train),3))\n",
    "print('Accuracy on test data:',round(gnbc.score(CX2_test, cy2_test),3))\n",
    "\n",
    "gnbc_pred = gnbc.predict(CX2_test)\n",
    "print(classification_report(cy2_test,gnbc_pred))"
   ]
  },
  {
   "cell_type": "code",
   "execution_count": 10,
   "metadata": {},
   "outputs": [
    {
     "name": "stdout",
     "output_type": "stream",
     "text": [
      "Accuracy on training data: 0.67\n",
      "Accuracy on test data: 0.539\n",
      "             precision    recall  f1-score   support\n",
      "\n",
      "          0       0.73      0.97      0.83        33\n",
      "          1       0.29      0.31      0.30        13\n",
      "          2       0.29      0.12      0.17        17\n",
      "          3       0.27      0.30      0.29        10\n",
      "          4       0.00      0.00      0.00         3\n",
      "\n",
      "avg / total       0.46      0.54      0.49        76\n",
      "\n"
     ]
    },
    {
     "name": "stderr",
     "output_type": "stream",
     "text": [
      "/Users/vickimoore/anaconda/lib/python3.6/site-packages/sklearn/metrics/classification.py:1113: UndefinedMetricWarning: Precision and F-score are ill-defined and being set to 0.0 in labels with no predicted samples.\n",
      "  'precision', 'predicted', average, warn_for)\n"
     ]
    }
   ],
   "source": [
    "from sklearn.linear_model import LogisticRegression\n",
    "CX3_train, CX3_test, cy3_train, cy3_test = train_test_split(X, cleveland_dfnoL.num, random_state=29)\n",
    "logregc = LogisticRegression()\n",
    "logregc.fit(CX3_train, cy3_train)\n",
    "print('Accuracy on training data:',round(logregc.score(CX3_train, cy3_train),3))\n",
    "print('Accuracy on test data:',round(logregc.score(CX3_test, cy3_test),3))\n",
    "\n",
    "logregc_pred = logregc.predict(CX3_test)\n",
    "print(classification_report(cy3_test,logregc_pred))"
   ]
  },
  {
   "cell_type": "code",
   "execution_count": 11,
   "metadata": {},
   "outputs": [
    {
     "name": "stdout",
     "output_type": "stream",
     "text": [
      "Basic Random Forest accuracy on training data: 0.996\n",
      "Basic Random Forest accuracy on test data: 0.789\n",
      "             precision    recall  f1-score   support\n",
      "\n",
      "      False       0.83      0.79      0.81        43\n",
      "       True       0.74      0.79      0.76        33\n",
      "\n",
      "avg / total       0.79      0.79      0.79        76\n",
      "\n"
     ]
    }
   ],
   "source": [
    "CX4_train, CX4_test, cy4_train, cy4_test = train_test_split(X, (cleveland_dfnoL.num == 0).values, random_state=29)\n",
    "rfccno = RandomForestClassifier()\n",
    "rfccno.fit(CX4_train, cy4_train)\n",
    "print('Basic Random Forest accuracy on training data:',round(rfccno.score(CX4_train, cy4_train),3))\n",
    "print('Basic Random Forest accuracy on test data:',round(rfccno.score(CX4_test, cy4_test),3))\n",
    "\n",
    "rfccno_pred = rfccno.predict(CX4_test)\n",
    "print(classification_report(cy4_test,rfccno_pred))"
   ]
  },
  {
   "cell_type": "code",
   "execution_count": 12,
   "metadata": {},
   "outputs": [
    {
     "name": "stdout",
     "output_type": "stream",
     "text": [
      "{'max_depth': 9, 'min_samples_leaf': 10, 'n_estimators': 36}\n",
      "0.837004405286\n",
      "RandomForestClassifier(bootstrap=True, class_weight=None, criterion='gini',\n",
      "            max_depth=9, max_features='auto', max_leaf_nodes=None,\n",
      "            min_impurity_split=1e-07, min_samples_leaf=10,\n",
      "            min_samples_split=2, min_weight_fraction_leaf=0.0,\n",
      "            n_estimators=36, n_jobs=1, oob_score=False, random_state=None,\n",
      "            verbose=0, warm_start=False)\n"
     ]
    }
   ],
   "source": [
    "param_grid = {'n_estimators' : [1,3,9,18,36,96,200,600], 'max_depth': [1,3,9], 'min_samples_leaf': [1,3,10]}\n",
    "CV_rfccno = GridSearchCV(estimator=rfccno, param_grid=param_grid, cv=5)\n",
    "CV_rfccno.fit(CX4_train, cy4_train)\n",
    "print(CV_rfccno.best_params_)\n",
    "print(CV_rfccno.best_score_)\n",
    "print(CV_rfccno.best_estimator_)"
   ]
  },
  {
   "cell_type": "code",
   "execution_count": 13,
   "metadata": {},
   "outputs": [
    {
     "name": "stdout",
     "output_type": "stream",
     "text": [
      "Tuned random forest accuracy on training data: 0.859\n",
      "Tuned random forest accuracy on test data: 0.868\n",
      "\n",
      "Classification report:\n",
      "              precision    recall  f1-score   support\n",
      "\n",
      "      False       0.95      0.81      0.88        43\n",
      "       True       0.79      0.94      0.86        33\n",
      "\n",
      "avg / total       0.88      0.87      0.87        76\n",
      "\n",
      "Confusion matrix:\n",
      " [[35  8]\n",
      " [ 2 31]]\n"
     ]
    },
    {
     "data": {
      "text/plain": [
       "'\\nfeature_namesforno = cleveland_dfnoL.columns\\nimportancesforno = rfccno_tuned.feature_importances_\\nstdforno = np.std([tree.feature_importances_ for tree in rfccno_tuned.estimators_],axis=0)\\nindicesforno = np.argsort(importancesforno)[::-1]\\nprint(\"Feature ranking:\")\\nfor f in range(X.shape[1]):\\n    print(\"%d. feature %d (%f)\" % (f + 1, indicesforno[f], importancesforno[indicesforno[f]]))\\nplt.figure()\\nplt.title(\"Feature importances\")\\nplt.bar(range(X.shape[1]), importancesforno[indicesforno], color=\"g\", yerr=stdforno[indicesforno], align=\"center\")\\nfeature_namesforno = cleveland_dfnoL.columns\\nplt.xticks(range(X.shape[1]), feature_namesforno)\\nplt.xlim([-1, X.shape[1]])\\nplt.show()\\n'"
      ]
     },
     "execution_count": 13,
     "metadata": {},
     "output_type": "execute_result"
    }
   ],
   "source": [
    "rfccno_tuned = CV_rfccno.best_estimator_\n",
    "rfccno_tuned.fit(CX4_train, cy4_train)\n",
    "cy4_true, cy4_predict = cy4_test, rfccno_tuned.predict(CX4_test)\n",
    "print('Tuned random forest accuracy on training data:',round(rfccno_tuned.score(CX4_train, cy4_train),3))\n",
    "print('Tuned random forest accuracy on test data:',round(rfccno_tuned.score(CX4_test, cy4_test),3))\n",
    "print('\\nClassification report:\\n',classification_report(cy4_true,cy4_predict))\n",
    "print('Confusion matrix:\\n',confusion_matrix(cy4_true,cy4_predict))\n",
    "'''\n",
    "feature_namesforno = cleveland_dfnoL.columns\n",
    "importancesforno = rfccno_tuned.feature_importances_\n",
    "stdforno = np.std([tree.feature_importances_ for tree in rfccno_tuned.estimators_],axis=0)\n",
    "indicesforno = np.argsort(importancesforno)[::-1]\n",
    "print(\"Feature ranking:\")\n",
    "for f in range(X.shape[1]):\n",
    "    print(\"%d. feature %d (%f)\" % (f + 1, indicesforno[f], importancesforno[indicesforno[f]]))\n",
    "plt.figure()\n",
    "plt.title(\"Feature importances\")\n",
    "plt.bar(range(X.shape[1]), importancesforno[indicesforno], color=\"g\", yerr=stdforno[indicesforno], align=\"center\")\n",
    "feature_namesforno = cleveland_dfnoL.columns\n",
    "plt.xticks(range(X.shape[1]), feature_namesforno)\n",
    "plt.xlim([-1, X.shape[1]])\n",
    "plt.show()\n",
    "'''"
   ]
  },
  {
   "cell_type": "code",
   "execution_count": 14,
   "metadata": {},
   "outputs": [
    {
     "name": "stdout",
     "output_type": "stream",
     "text": [
      "Accuracy on training data: 0.758\n",
      "Accuracy on test data: 0.803\n",
      "             precision    recall  f1-score   support\n",
      "\n",
      "      False       0.91      0.72      0.81        43\n",
      "       True       0.71      0.91      0.80        33\n",
      "\n",
      "avg / total       0.83      0.80      0.80        76\n",
      "\n"
     ]
    }
   ],
   "source": [
    "CX5_train, CX5_test, cy5_train, cy5_test = train_test_split(X, (cleveland_dfnoL.num == 0).values, random_state=29)\n",
    "mnbcno = MultinomialNB()\n",
    "mnbcno.fit(CX5_train, cy5_train)\n",
    "print('Accuracy on training data:',round(mnbcno.score(CX5_train, cy5_train),3))\n",
    "print('Accuracy on test data:',round(mnbcno.score(CX5_test, cy5_test),3))\n",
    "\n",
    "mnbcno_pred = mnbcno.predict(CX5_test)\n",
    "print(classification_report(cy5_test,mnbcno_pred))"
   ]
  },
  {
   "cell_type": "code",
   "execution_count": 15,
   "metadata": {},
   "outputs": [
    {
     "name": "stdout",
     "output_type": "stream",
     "text": [
      "Accuracy on training data: 0.846\n",
      "Accuracy on test data: 0.868\n",
      "             precision    recall  f1-score   support\n",
      "\n",
      "      False       0.95      0.81      0.88        43\n",
      "       True       0.79      0.94      0.86        33\n",
      "\n",
      "avg / total       0.88      0.87      0.87        76\n",
      "\n"
     ]
    }
   ],
   "source": [
    "CX6_train, CX6_test, cy6_train, cy6_test = train_test_split(X, (cleveland_dfnoL.num == 0).values, random_state=29)\n",
    "gnbcno = GaussianNB()\n",
    "gnbcno.fit(CX6_train, cy6_train)\n",
    "print('Accuracy on training data:',round(gnbcno.score(CX6_train, cy6_train),3))\n",
    "print('Accuracy on test data:',round(gnbcno.score(CX6_test, cy6_test),3))\n",
    "\n",
    "gnbcno_pred = gnbcno.predict(CX6_test)\n",
    "print(classification_report(cy6_test,gnbcno_pred))"
   ]
  },
  {
   "cell_type": "code",
   "execution_count": 16,
   "metadata": {},
   "outputs": [
    {
     "name": "stdout",
     "output_type": "stream",
     "text": [
      "Accuracy on training data: 0.846\n",
      "Accuracy on test data: 0.868\n",
      "             precision    recall  f1-score   support\n",
      "\n",
      "      False       0.90      0.86      0.88        43\n",
      "       True       0.83      0.88      0.85        33\n",
      "\n",
      "avg / total       0.87      0.87      0.87        76\n",
      "\n"
     ]
    }
   ],
   "source": [
    "CX7_train, CX7_test, cy7_train, cy7_test = train_test_split(X, (cleveland_dfnoL.num == 0).values, random_state=29)\n",
    "logregcno = LogisticRegression()\n",
    "logregcno.fit(CX7_train, cy7_train)\n",
    "print('Accuracy on training data:',round(logregcno.score(CX7_train, cy7_train),3))\n",
    "print('Accuracy on test data:',round(logregcno.score(CX7_test, cy7_test),3))\n",
    "\n",
    "logregcno_pred = logregcno.predict(CX7_test)\n",
    "print(classification_report(cy7_test,logregcno_pred))"
   ]
  },
  {
   "cell_type": "code",
   "execution_count": 17,
   "metadata": {},
   "outputs": [
    {
     "name": "stdout",
     "output_type": "stream",
     "text": [
      "Accuracy on training data: 1.0\n",
      "Accuracy on test data: 0.434\n",
      "             precision    recall  f1-score   support\n",
      "\n",
      "          0       0.43      1.00      0.61        33\n",
      "          1       0.00      0.00      0.00        13\n",
      "          2       0.00      0.00      0.00        17\n",
      "          3       0.00      0.00      0.00        10\n",
      "          4       0.00      0.00      0.00         3\n",
      "\n",
      "avg / total       0.19      0.43      0.26        76\n",
      "\n"
     ]
    },
    {
     "name": "stderr",
     "output_type": "stream",
     "text": [
      "/Users/vickimoore/anaconda/lib/python3.6/site-packages/sklearn/metrics/classification.py:1113: UndefinedMetricWarning: Precision and F-score are ill-defined and being set to 0.0 in labels with no predicted samples.\n",
      "  'precision', 'predicted', average, warn_for)\n"
     ]
    }
   ],
   "source": [
    "from sklearn import svm\n",
    "CX8_train, CX8_test, cy8_train, cy8_test = train_test_split(X, cleveland_dfnoL.num, random_state=29)\n",
    "sv = svm.SVC()\n",
    "sv.fit(CX8_train, cy8_train)\n",
    "print('Accuracy on training data:',round(sv.score(CX8_train, cy8_train),3))\n",
    "print('Accuracy on test data:',round(sv.score(CX8_test, cy8_test),3))\n",
    "\n",
    "sv_pred = sv.predict(CX8_test)\n",
    "print(classification_report(cy8_test,sv_pred))"
   ]
  },
  {
   "cell_type": "code",
   "execution_count": 18,
   "metadata": {},
   "outputs": [
    {
     "name": "stdout",
     "output_type": "stream",
     "text": [
      "Accuracy on training data: 0.678\n",
      "Accuracy on test data: 0.539\n",
      "             precision    recall  f1-score   support\n",
      "\n",
      "          0       0.79      0.91      0.85        33\n",
      "          1       0.26      0.38      0.31        13\n",
      "          2       0.36      0.24      0.29        17\n",
      "          3       0.25      0.20      0.22        10\n",
      "          4       0.00      0.00      0.00         3\n",
      "\n",
      "avg / total       0.50      0.54      0.51        76\n",
      "\n"
     ]
    },
    {
     "name": "stderr",
     "output_type": "stream",
     "text": [
      "/Users/vickimoore/anaconda/lib/python3.6/site-packages/sklearn/metrics/classification.py:1113: UndefinedMetricWarning: Precision and F-score are ill-defined and being set to 0.0 in labels with no predicted samples.\n",
      "  'precision', 'predicted', average, warn_for)\n"
     ]
    }
   ],
   "source": [
    "CX9_train, CX9_test, cy9_train, cy9_test = train_test_split(X, cleveland_dfnoL.num, random_state=29)\n",
    "svlin = svm.LinearSVC()\n",
    "svlin.fit(CX9_train, cy9_train)\n",
    "print('Accuracy on training data:',round(svlin.score(CX9_train, cy9_train),3))\n",
    "print('Accuracy on test data:',round(svlin.score(CX9_test, cy9_test),3))\n",
    "\n",
    "svlin_pred = svlin.predict(CX9_test)\n",
    "print(classification_report(cy9_test,svlin_pred))"
   ]
  },
  {
   "cell_type": "code",
   "execution_count": 19,
   "metadata": {},
   "outputs": [
    {
     "name": "stdout",
     "output_type": "stream",
     "text": [
      "Accuracy on training data: 1.0\n",
      "Accuracy on test data: 0.434\n",
      "             precision    recall  f1-score   support\n",
      "\n",
      "      False       0.00      0.00      0.00        43\n",
      "       True       0.43      1.00      0.61        33\n",
      "\n",
      "avg / total       0.19      0.43      0.26        76\n",
      "\n"
     ]
    },
    {
     "name": "stderr",
     "output_type": "stream",
     "text": [
      "/Users/vickimoore/anaconda/lib/python3.6/site-packages/sklearn/metrics/classification.py:1113: UndefinedMetricWarning: Precision and F-score are ill-defined and being set to 0.0 in labels with no predicted samples.\n",
      "  'precision', 'predicted', average, warn_for)\n"
     ]
    }
   ],
   "source": [
    "CX10_train, CX10_test, cy10_train, cy10_test = train_test_split(X, (cleveland_dfnoL.num == 0).values, random_state=29)\n",
    "svno = svm.SVC()\n",
    "svno.fit(CX10_train, cy10_train)\n",
    "print('Accuracy on training data:',round(svno.score(CX10_train, cy10_train),3))\n",
    "print('Accuracy on test data:',round(svno.score(CX10_test, cy10_test),3))\n",
    "\n",
    "svno_pred = svno.predict(CX10_test)\n",
    "print(classification_report(cy10_test,svno_pred))"
   ]
  },
  {
   "cell_type": "code",
   "execution_count": 20,
   "metadata": {},
   "outputs": [
    {
     "name": "stdout",
     "output_type": "stream",
     "text": [
      "Accuracy on training data: 0.423\n",
      "Accuracy on test data: 0.566\n",
      "             precision    recall  f1-score   support\n",
      "\n",
      "      False       0.57      1.00      0.72        43\n",
      "       True       0.00      0.00      0.00        33\n",
      "\n",
      "avg / total       0.32      0.57      0.41        76\n",
      "\n"
     ]
    },
    {
     "name": "stderr",
     "output_type": "stream",
     "text": [
      "/Users/vickimoore/anaconda/lib/python3.6/site-packages/sklearn/metrics/classification.py:1113: UndefinedMetricWarning: Precision and F-score are ill-defined and being set to 0.0 in labels with no predicted samples.\n",
      "  'precision', 'predicted', average, warn_for)\n"
     ]
    }
   ],
   "source": [
    "CX11_train, CX11_test, cy11_train, cy11_test = train_test_split(X, (cleveland_dfnoL.num == 0).values, random_state=29)\n",
    "svlinno = svm.LinearSVC()\n",
    "svlinno.fit(CX11_train, cy11_train)\n",
    "print('Accuracy on training data:',round(svlinno.score(CX11_train, cy11_train),3))\n",
    "print('Accuracy on test data:',round(svlinno.score(CX11_test, cy11_test),3))\n",
    "\n",
    "svlinno_pred = svlinno.predict(CX11_test)\n",
    "print(classification_report(cy11_test,svlinno_pred))"
   ]
  },
  {
   "cell_type": "code",
   "execution_count": 21,
   "metadata": {},
   "outputs": [
    {
     "name": "stdout",
     "output_type": "stream",
     "text": [
      "Accuracy on training data: 1.0\n",
      "Accuracy on test data: 0.5\n",
      "             precision    recall  f1-score   support\n",
      "\n",
      "          0       0.75      0.82      0.78        33\n",
      "          1       0.11      0.15      0.13        13\n",
      "          2       0.40      0.24      0.30        17\n",
      "          3       0.50      0.50      0.50        10\n",
      "          4       0.00      0.00      0.00         3\n",
      "\n",
      "avg / total       0.50      0.50      0.49        76\n",
      "\n"
     ]
    }
   ],
   "source": [
    "from sklearn import tree\n",
    "CX12_train, CX12_test, cy12_train, cy12_test = train_test_split(X, cleveland_dfnoL.num, random_state=29)\n",
    "dt = tree.DecisionTreeClassifier()\n",
    "dt.fit(CX12_train, cy12_train)\n",
    "print('Accuracy on training data:',round(dt.score(CX12_train, cy12_train),3))\n",
    "print('Accuracy on test data:',round(dt.score(CX12_test, cy12_test),3))\n",
    "\n",
    "dt_pred = dt.predict(CX12_test)\n",
    "print(classification_report(cy12_test,dt_pred))"
   ]
  },
  {
   "cell_type": "code",
   "execution_count": 22,
   "metadata": {},
   "outputs": [
    {
     "name": "stdout",
     "output_type": "stream",
     "text": [
      "Accuracy on training data: 1.0\n",
      "Accuracy on test data: 0.789\n",
      "             precision    recall  f1-score   support\n",
      "\n",
      "      False       0.91      0.70      0.79        43\n",
      "       True       0.70      0.91      0.79        33\n",
      "\n",
      "avg / total       0.82      0.79      0.79        76\n",
      "\n"
     ]
    }
   ],
   "source": [
    "CX13_train, CX13_test, cy13_train, cy13_test = train_test_split(X, (cleveland_dfnoL.num == 0).values, random_state=29)\n",
    "dtno = tree.DecisionTreeClassifier()\n",
    "dtno.fit(CX13_train, cy13_train)\n",
    "print('Accuracy on training data:',round(dtno.score(CX13_train, cy13_train),3))\n",
    "print('Accuracy on test data:',round(dtno.score(CX13_test, cy13_test),3))\n",
    "\n",
    "dtno_pred = dtno.predict(CX13_test)\n",
    "print(classification_report(cy13_test,dtno_pred))"
   ]
  },
  {
   "cell_type": "code",
   "execution_count": 23,
   "metadata": {},
   "outputs": [
    {
     "name": "stdout",
     "output_type": "stream",
     "text": [
      "Accuracy on training data: 0.982\n",
      "Accuracy on test data: 0.5\n",
      "             precision    recall  f1-score   support\n",
      "\n",
      "          0       0.70      0.91      0.79        33\n",
      "          1       0.29      0.31      0.30        13\n",
      "          2       0.30      0.18      0.22        17\n",
      "          3       0.12      0.10      0.11        10\n",
      "          4       0.00      0.00      0.00         3\n",
      "\n",
      "avg / total       0.44      0.50      0.46        76\n",
      "\n"
     ]
    }
   ],
   "source": [
    "from sklearn.ensemble import GradientBoostingClassifier\n",
    "CX14_train, CX14_test, cy14_train, cy14_test = train_test_split(X, cleveland_dfnoL.num, random_state=29)\n",
    "gbc = GradientBoostingClassifier(n_estimators=100, max_depth=1, learning_rate=1)\n",
    "gbc.fit(CX14_train, cy14_train)\n",
    "print('Accuracy on training data:',round(gbc.score(CX14_train, cy14_train),3))\n",
    "print('Accuracy on test data:',round(gbc.score(CX14_test, cy14_test),3))\n",
    "\n",
    "gbc_pred = gbc.predict(CX14_test)\n",
    "print(classification_report(cy14_test,gbc_pred))"
   ]
  },
  {
   "cell_type": "code",
   "execution_count": 24,
   "metadata": {},
   "outputs": [
    {
     "name": "stdout",
     "output_type": "stream",
     "text": [
      "Accuracy on training data: 0.881\n",
      "Accuracy on test data: 0.842\n",
      "             precision    recall  f1-score   support\n",
      "\n",
      "      False       0.90      0.81      0.85        43\n",
      "       True       0.78      0.88      0.83        33\n",
      "\n",
      "avg / total       0.85      0.84      0.84        76\n",
      "\n"
     ]
    }
   ],
   "source": [
    "CX15_train, CX15_test, cy15_train, cy15_test = train_test_split(X, (cleveland_dfnoL.num == 0).values, random_state=29)\n",
    "gbcno = GradientBoostingClassifier(n_estimators=100, max_depth=1, learning_rate=1)\n",
    "gbcno.fit(CX15_train, cy15_train)\n",
    "print('Accuracy on training data:',round(gbcno.score(CX15_train, cy15_train),3))\n",
    "print('Accuracy on test data:',round(gbcno.score(CX15_test, cy15_test),3))\n",
    "\n",
    "gbcno_pred = gbcno.predict(CX15_test)\n",
    "print(classification_report(cy15_test,gbcno_pred))"
   ]
  },
  {
   "cell_type": "code",
   "execution_count": 25,
   "metadata": {},
   "outputs": [
    {
     "name": "stdout",
     "output_type": "stream",
     "text": [
      "Accuracy on training data: 0.581\n",
      "Accuracy on test data: 0.461\n",
      "             precision    recall  f1-score   support\n",
      "\n",
      "          0       0.49      1.00      0.65        33\n",
      "          1       0.00      0.00      0.00        13\n",
      "          2       0.00      0.00      0.00        17\n",
      "          3       0.29      0.20      0.24        10\n",
      "          4       0.00      0.00      0.00         3\n",
      "\n",
      "avg / total       0.25      0.46      0.31        76\n",
      "\n"
     ]
    },
    {
     "name": "stderr",
     "output_type": "stream",
     "text": [
      "/Users/vickimoore/anaconda/lib/python3.6/site-packages/sklearn/metrics/classification.py:1113: UndefinedMetricWarning: Precision and F-score are ill-defined and being set to 0.0 in labels with no predicted samples.\n",
      "  'precision', 'predicted', average, warn_for)\n"
     ]
    }
   ],
   "source": [
    "from sklearn.linear_model import SGDClassifier\n",
    "CX16_train, CX16_test, cy16_train, cy16_test = train_test_split(X, cleveland_dfnoL.num, random_state=29)\n",
    "sgd = SGDClassifier(loss=\"hinge\", penalty=\"l2\")\n",
    "sgd.fit(CX16_train, cy16_train)\n",
    "print('Accuracy on training data:',round(sgd.score(CX16_train, cy16_train),3))\n",
    "print('Accuracy on test data:',round(sgd.score(CX16_test, cy16_test),3))\n",
    "\n",
    "sgd_pred = sgd.predict(CX16_test)\n",
    "print(classification_report(cy16_test,sgd_pred))"
   ]
  },
  {
   "cell_type": "code",
   "execution_count": 26,
   "metadata": {},
   "outputs": [
    {
     "name": "stdout",
     "output_type": "stream",
     "text": [
      "Accuracy on training data: 0.445\n",
      "Accuracy on test data: 0.579\n",
      "             precision    recall  f1-score   support\n",
      "\n",
      "      False       0.57      1.00      0.73        43\n",
      "       True       1.00      0.03      0.06        33\n",
      "\n",
      "avg / total       0.76      0.58      0.44        76\n",
      "\n"
     ]
    }
   ],
   "source": [
    "CX17_train, CX17_test, cy17_train, cy17_test = train_test_split(X, (cleveland_dfnoL.num == 0).values, random_state=29)\n",
    "sgdno = SGDClassifier(loss=\"hinge\", penalty=\"l2\")\n",
    "sgdno.fit(CX17_train, cy17_train)\n",
    "print('Accuracy on training data:',round(sgdno.score(CX17_train, cy17_train),3))\n",
    "print('Accuracy on test data:',round(sgdno.score(CX17_test, cy17_test),3))\n",
    "\n",
    "sgdno_pred = sgdno.predict(CX17_test)\n",
    "print(classification_report(cy17_test,sgdno_pred))"
   ]
  },
  {
   "cell_type": "code",
   "execution_count": 27,
   "metadata": {},
   "outputs": [
    {
     "name": "stdout",
     "output_type": "stream",
     "text": [
      "Accuracy on training data: 1.0\n",
      "Accuracy on test data: 0.513\n",
      "             precision    recall  f1-score   support\n",
      "\n",
      "          0       0.62      0.91      0.74        33\n",
      "          1       0.31      0.31      0.31        13\n",
      "          2       0.40      0.12      0.18        17\n",
      "          3       0.22      0.20      0.21        10\n",
      "          4       1.00      0.33      0.50         3\n",
      "\n",
      "avg / total       0.48      0.51      0.46        76\n",
      "\n"
     ]
    }
   ],
   "source": [
    "from sklearn.ensemble import ExtraTreesClassifier\n",
    "CX25_train, CX25_test, cy25_train, cy25_test = train_test_split(X, cleveland_dfnoL.num, random_state=29)\n",
    "forest = ExtraTreesClassifier(n_estimators=250, random_state=0)\n",
    "forest.fit(CX25_train, cy25_train)\n",
    "\n",
    "print('Accuracy on training data:',round(forest.score(CX25_train, cy25_train),3))\n",
    "print('Accuracy on test data:',round(forest.score(CX25_test, cy25_test),3))\n",
    "\n",
    "'''\n",
    "feature_names = cleveland_dfnoL.columns\n",
    "importances = forest.feature_importances_\n",
    "std = np.std([tree.feature_importances_ for tree in forest.estimators_],axis=0)\n",
    "indices = np.argsort(importances)[::-1]\n",
    "print(\"Feature ranking:\")\n",
    "for f in range(X.shape[1]):\n",
    "    print(\"%d. feature %d (%f)\" % (f + 1, indices[f], importances[indices[f]]))\n",
    "plt.figure()\n",
    "plt.title(\"Feature importances\")\n",
    "plt.bar(range(X.shape[1]), importances[indices], color=\"r\", yerr=std[indices], align=\"center\")\n",
    "feature_names = cleveland_dfnoL.columns\n",
    "plt.xticks(range(X.shape[1]), feature_names)\n",
    "plt.xlim([-1, X.shape[1]])\n",
    "plt.show()\n",
    "'''\n",
    "\n",
    "forest_pred = forest.predict(CX25_test)\n",
    "print(classification_report(cy25_test,forest_pred))"
   ]
  },
  {
   "cell_type": "code",
   "execution_count": 28,
   "metadata": {},
   "outputs": [
    {
     "name": "stdout",
     "output_type": "stream",
     "text": [
      "Accuracy on training data: 1.0\n",
      "Accuracy on test data: 0.829\n",
      "             precision    recall  f1-score   support\n",
      "\n",
      "      False       0.88      0.81      0.84        43\n",
      "       True       0.78      0.85      0.81        33\n",
      "\n",
      "avg / total       0.83      0.83      0.83        76\n",
      "\n"
     ]
    }
   ],
   "source": [
    "CX20_train, CX20_test, cy20_train, cy20_test = train_test_split(X, (cleveland_dfnoL.num == 0).values, random_state=29)\n",
    "foresta = ExtraTreesClassifier(n_estimators=250, random_state=0)\n",
    "foresta.fit(CX20_train, cy20_train)\n",
    "\n",
    "print('Accuracy on training data:',round(foresta.score(CX20_train, cy20_train),3))\n",
    "print('Accuracy on test data:',round(foresta.score(CX20_test, cy20_test),3))\n",
    "\n",
    "'''\n",
    "feature_names = cleveland_dfnoL.columns\n",
    "importances = foresta.feature_importances_\n",
    "std = np.std([tree.feature_importances_ for tree in foresta.estimators_],axis=0)\n",
    "indices = np.argsort(importances)[::-1]\n",
    "print(\"Feature ranking:\")\n",
    "for f in range(X.shape[1]):\n",
    "    print(\"%d. feature %d (%f)\" % (f + 1, indices[f], importances[indices[f]]))\n",
    "plt.figure()\n",
    "plt.title(\"Feature importances\")\n",
    "plt.bar(range(X.shape[1]), importances[indices], color=\"r\", yerr=std[indices], align=\"center\")\n",
    "feature_names = cleveland_dfnoL.columns\n",
    "plt.xticks(range(X.shape[1]), feature_names)\n",
    "plt.xlim([-1, X.shape[1]])\n",
    "plt.show()\n",
    "'''\n",
    "foresta_pred = foresta.predict(CX20_test)\n",
    "print(classification_report(cy20_test,foresta_pred))"
   ]
  },
  {
   "cell_type": "markdown",
   "metadata": {},
   "source": [
    "## Figure 16. Feature importance using XGBoost on Cleveland subset with a multiclass target"
   ]
  },
  {
   "cell_type": "code",
   "execution_count": 29,
   "metadata": {},
   "outputs": [
    {
     "name": "stdout",
     "output_type": "stream",
     "text": [
      "XGBClassifier(base_score=0.5, booster='gbtree', colsample_bylevel=1,\n",
      "       colsample_bytree=1, gamma=0, learning_rate=0.1, max_delta_step=0,\n",
      "       max_depth=3, min_child_weight=1, missing=None, n_estimators=100,\n",
      "       n_jobs=1, nthread=None, objective='multi:softprob', random_state=0,\n",
      "       reg_alpha=0, reg_lambda=1, scale_pos_weight=1, seed=None,\n",
      "       silent=True, subsample=1)\n",
      "Accuracy on training data: 0.995\n",
      "Accuracy on test data: 0.51\n"
     ]
    },
    {
     "data": {
      "image/png": "[encoded data removed]",
      "text/plain": [
       "<matplotlib.figure.Figure at 0x113ead278>"
      ]
     },
     "metadata": {},
     "output_type": "display_data"
    },
    {
     "name": "stdout",
     "output_type": "stream",
     "text": [
      "             precision    recall  f1-score   support\n",
      "\n",
      "          0       0.75      0.91      0.83        47\n",
      "          1       0.18      0.25      0.21        16\n",
      "          2       0.27      0.17      0.21        18\n",
      "          3       0.11      0.07      0.09        14\n",
      "          4       0.00      0.00      0.00         5\n",
      "\n",
      "avg / total       0.45      0.51      0.47       100\n",
      "\n"
     ]
    }
   ],
   "source": [
    "from xgboost import XGBClassifier, plot_importance\n",
    "test_size = 0.33\n",
    "CX18_train, CX18_test, cy18_train, cy18_test = train_test_split(X, cleveland_dfnoL.num, test_size=test_size, random_state=29)\n",
    "xgb = XGBClassifier()\n",
    "xgb.fit(CX18_train, cy18_train)\n",
    "print(xgb)\n",
    "cy18_pred = xgb.predict(CX18_test)\n",
    "predictions1 = [round(value) for value in cy18_pred]\n",
    "#accuracy = accuracy_score(y_test, predictions)\n",
    "#print(\"Accuracy: %.2f%%\" % (accuracy * 100.0))\n",
    "print('Accuracy on training data:',round(xgb.score(CX18_train, cy18_train),3))\n",
    "print('Accuracy on test data:',round(xgb.score(CX18_test, cy18_test),3))\n",
    "\n",
    "plot_importance(xgb)\n",
    "plt.show()\n",
    "print(classification_report(cy18_test,predictions1))"
   ]
  },
  {
   "cell_type": "markdown",
   "metadata": {},
   "source": [
    "## Figure 17. Feature importance using XGBoost on Cleveland subset with a binary target"
   ]
  },
  {
   "cell_type": "code",
   "execution_count": 30,
   "metadata": {},
   "outputs": [
    {
     "name": "stdout",
     "output_type": "stream",
     "text": [
      "XGBClassifier(base_score=0.5, booster='gbtree', colsample_bylevel=1,\n",
      "       colsample_bytree=1, gamma=0, learning_rate=0.1, max_delta_step=0,\n",
      "       max_depth=3, min_child_weight=1, missing=None, n_estimators=100,\n",
      "       n_jobs=1, nthread=None, objective='binary:logistic', random_state=0,\n",
      "       reg_alpha=0, reg_lambda=1, scale_pos_weight=1, seed=None,\n",
      "       silent=True, subsample=1)\n",
      "Accuracy on training data: 0.975\n",
      "Accuracy on test data: 0.86\n"
     ]
    },
    {
     "data": {
      "image/png": "[encoded data removed]",
      "text/plain": [
       "<matplotlib.figure.Figure at 0x113e2d588>"
      ]
     },
     "metadata": {},
     "output_type": "display_data"
    },
    {
     "name": "stdout",
     "output_type": "stream",
     "text": [
      "             precision    recall  f1-score   support\n",
      "\n",
      "      False       0.90      0.83      0.86        53\n",
      "       True       0.82      0.89      0.86        47\n",
      "\n",
      "avg / total       0.86      0.86      0.86       100\n",
      "\n"
     ]
    }
   ],
   "source": [
    "test_size = 0.33\n",
    "CX19_train, CX19_test, cy19_train, cy19_test = train_test_split(X, (cleveland_dfnoL.num == 0).values, test_size=test_size, random_state=29)\n",
    "xgbno = XGBClassifier()\n",
    "xgbno.fit(CX19_train, cy19_train)\n",
    "print(xgbno)\n",
    "cy19_pred = xgbno.predict(CX19_test)\n",
    "predictions2 = [round(value) for value in cy19_pred]\n",
    "#accuracy = accuracy_score(y_test, predictions)\n",
    "#print(\"Accuracy: %.2f%%\" % (accuracy * 100.0))\n",
    "print('Accuracy on training data:',round(xgbno.score(CX19_train, cy19_train),3))\n",
    "print('Accuracy on test data:',round(xgbno.score(CX19_test, cy19_test),3))\n",
    "\n",
    "plot_importance(xgbno)\n",
    "\n",
    "plt.show()\n",
    "\n",
    "print(classification_report(cy19_test,predictions2))"
   ]
  },
  {
   "cell_type": "code",
   "execution_count": 31,
   "metadata": {},
   "outputs": [
    {
     "name": "stdout",
     "output_type": "stream",
     "text": [
      "(303, 13)\n",
      "(303,)\n"
     ]
    },
    {
     "data": {
      "text/plain": [
       "\"\\nXnp_train, Xnp_test, ynp_train, ynp_test = train_test_split(Xnp, ynp, random_state=29)\\nrfclime = RandomForestClassifier(max_depth=9, min_samples_leaf=3, n_estimators=9)\\nrfclime.fit(Xnp_train, ynp_train)\\n\\npredict_fn_rfclime = lambda x: rfclime.predict_proba(Xnp).astype(float)\\n\\ncat_columns = []\\ntrain_cat_features_ver2 = ()\\ntrain_int_features = ()\\n#train_float_features = ('age', 'sex', 'cp', 'trestbps', 'chol', 'fbs', 'restecg', 'thalach', 'exang', 'oldpeak', 'slope', 'ca', 'thal')\\ntrain_float_features = ('age', 'sex','cp','trestbps','chol','fbs','restecg','thalach','exang','oldpeak','slope','ca','thal')\\nfeature_names_cat = list(train_cat_features_ver2)\\nfeature_names_float = list(train_float_features)\\nfeature_names_int = list(train_int_features)\\nfeature_names = sum([feature_names_float, feature_names_cat, feature_names_int],[])\\nprint(feature_names)\\nclass_names = [0,1,2,3,4]\\nprint(class_names)\\n\\ncategorical_features = np.argwhere(np.array([len(set(Xnp[:,x]))\\n    for x in range(Xnp.shape[1])]) <= 10).flatten()\\n\\nexplainer = lime.lime_tabular.LimeTabularExplainer(Xnp_train, feature_names=feature_names, class_names=class_names, categorical_features=categorical_features, discretize_continuous=True)\\ni = 30\\nexp = explainer.explain_instance(Xnp_test[i], predict_fn_rfclime, num_features=13)\\n\\nexp.show_in_notebook(show_all=False)\\nprint(ynp_test[i])\\n\""
      ]
     },
     "execution_count": 31,
     "metadata": {},
     "output_type": "execute_result"
    }
   ],
   "source": [
    "#import csv\n",
    "import lime\n",
    "import lime.lime_tabular\n",
    "from lime import lime_text\n",
    "from __future__ import print_function\n",
    "from sklearn.pipeline import make_pipeline\n",
    "\n",
    "Xnp = np.asarray(X)\n",
    "ynp = np.asarray(cleveland_dfnoL.num)\n",
    "#Xnp = X.as_matrix()\n",
    "#ynp = cleveland_dfnoL.num.as_matrix()\n",
    "print(Xnp.shape)\n",
    "print(ynp.shape)\n",
    "#Xnp.reshape((303,13))\n",
    "#ynp.reshape((303,))\n",
    "#print(Xnp)\n",
    "#print(ynp)\n",
    "'''\n",
    "Xnp_train, Xnp_test, ynp_train, ynp_test = train_test_split(Xnp, ynp, random_state=29)\n",
    "rfclime = RandomForestClassifier(max_depth=9, min_samples_leaf=3, n_estimators=9)\n",
    "rfclime.fit(Xnp_train, ynp_train)\n",
    "\n",
    "predict_fn_rfclime = lambda x: rfclime.predict_proba(Xnp).astype(float)\n",
    "\n",
    "cat_columns = []\n",
    "train_cat_features_ver2 = ()\n",
    "train_int_features = ()\n",
    "#train_float_features = ('age', 'sex', 'cp', 'trestbps', 'chol', 'fbs', 'restecg', 'thalach', 'exang', 'oldpeak', 'slope', 'ca', 'thal')\n",
    "train_float_features = ('age', 'sex','cp','trestbps','chol','fbs','restecg','thalach','exang','oldpeak','slope','ca','thal')\n",
    "feature_names_cat = list(train_cat_features_ver2)\n",
    "feature_names_float = list(train_float_features)\n",
    "feature_names_int = list(train_int_features)\n",
    "feature_names = sum([feature_names_float, feature_names_cat, feature_names_int],[])\n",
    "print(feature_names)\n",
    "class_names = [0,1,2,3,4]\n",
    "print(class_names)\n",
    "\n",
    "categorical_features = np.argwhere(np.array([len(set(Xnp[:,x]))\n",
    "    for x in range(Xnp.shape[1])]) <= 10).flatten()\n",
    "\n",
    "explainer = lime.lime_tabular.LimeTabularExplainer(Xnp_train, feature_names=feature_names, class_names=class_names, categorical_features=categorical_features, discretize_continuous=True)\n",
    "i = 30\n",
    "exp = explainer.explain_instance(Xnp_test[i], predict_fn_rfclime, num_features=13)\n",
    "\n",
    "exp.show_in_notebook(show_all=False)\n",
    "print(ynp_test[i])\n",
    "'''"
   ]
  },
  {
   "cell_type": "code",
   "execution_count": 32,
   "metadata": {},
   "outputs": [
    {
     "name": "stdout",
     "output_type": "stream",
     "text": [
      "Accuracy on training data: 0.577\n",
      "Accuracy on test data: 0.434\n",
      "[[33  0  0  0  0]\n",
      " [13  0  0  0  0]\n",
      " [17  0  0  0  0]\n",
      " [10  0  0  0  0]\n",
      " [ 3  0  0  0  0]]\n",
      "             precision    recall  f1-score   support\n",
      "\n",
      "          0       0.43      1.00      0.61        33\n",
      "          1       0.00      0.00      0.00        13\n",
      "          2       0.00      0.00      0.00        17\n",
      "          3       0.00      0.00      0.00        10\n",
      "          4       0.00      0.00      0.00         3\n",
      "\n",
      "avg / total       0.19      0.43      0.26        76\n",
      "\n"
     ]
    },
    {
     "name": "stderr",
     "output_type": "stream",
     "text": [
      "/Users/vickimoore/anaconda/lib/python3.6/site-packages/sklearn/metrics/classification.py:1113: UndefinedMetricWarning: Precision and F-score are ill-defined and being set to 0.0 in labels with no predicted samples.\n",
      "  'precision', 'predicted', average, warn_for)\n"
     ]
    }
   ],
   "source": [
    "from sklearn.neural_network import MLPClassifier  \n",
    "CX22_train, CX22_test, cy22_train, cy22_test = train_test_split(X, cleveland_dfnoL.num, random_state=29)\n",
    "mlp = MLPClassifier(hidden_layer_sizes=(10, 10, 10), max_iter=1000)  \n",
    "mlp.fit(CX22_train, cy22_train) \n",
    "predmlp = mlp.predict(CX22_test)\n",
    "print('Accuracy on training data:',round(mlp.score(CX22_train, cy22_train),3))\n",
    "print('Accuracy on test data:',round(mlp.score(CX22_test, cy22_test),3))\n",
    "print(confusion_matrix(cy22_test,predmlp))  \n",
    "print(classification_report(cy22_test,predmlp))  "
   ]
  },
  {
   "cell_type": "code",
   "execution_count": 33,
   "metadata": {},
   "outputs": [
    {
     "name": "stdout",
     "output_type": "stream",
     "text": [
      "Accuracy on training data: 0.423\n",
      "Accuracy on test data: 0.566\n",
      "[[43  0]\n",
      " [33  0]]\n",
      "             precision    recall  f1-score   support\n",
      "\n",
      "      False       0.57      1.00      0.72        43\n",
      "       True       0.00      0.00      0.00        33\n",
      "\n",
      "avg / total       0.32      0.57      0.41        76\n",
      "\n"
     ]
    },
    {
     "name": "stderr",
     "output_type": "stream",
     "text": [
      "/Users/vickimoore/anaconda/lib/python3.6/site-packages/sklearn/metrics/classification.py:1113: UndefinedMetricWarning: Precision and F-score are ill-defined and being set to 0.0 in labels with no predicted samples.\n",
      "  'precision', 'predicted', average, warn_for)\n"
     ]
    }
   ],
   "source": [
    "CX23_train, CX23_test, cy23_train, cy23_test = train_test_split(X, (cleveland_dfnoL.num == 0).values, random_state=29)\n",
    "mlpno = MLPClassifier(hidden_layer_sizes=(10, 10, 10), max_iter=1000)  \n",
    "mlpno.fit(CX23_train, cy23_train) \n",
    "predmlpno = mlpno.predict(CX23_test)\n",
    "print('Accuracy on training data:',round(mlpno.score(CX23_train, cy23_train),3))\n",
    "print('Accuracy on test data:',round(mlpno.score(CX23_test, cy23_test),3))\n",
    "print(confusion_matrix(cy23_test,predmlpno))  \n",
    "print(classification_report(cy23_test,predmlpno))  "
   ]
  },
  {
   "cell_type": "code",
   "execution_count": 34,
   "metadata": {
    "scrolled": false
   },
   "outputs": [
    {
     "name": "stdout",
     "output_type": "stream",
     "text": [
      "Basic Random Forest accuracy on training data: 0.987\n",
      "Basic Random Forest accuracy on test data: 0.526\n",
      "             precision    recall  f1-score   support\n",
      "\n",
      "          0       0.71      0.91      0.80        33\n",
      "          1       0.18      0.23      0.20        13\n",
      "          2       0.45      0.29      0.36        17\n",
      "          3       0.33      0.20      0.25        10\n",
      "          4       0.00      0.00      0.00         3\n",
      "\n",
      "avg / total       0.49      0.53      0.49        76\n",
      "\n",
      "Tuned random forest accuracy on training data: 0.648\n",
      "Tuned random forest accuracy on test data: 0.513\n",
      "\n",
      "Classification report:\n",
      "              precision    recall  f1-score   support\n",
      "\n",
      "          0       0.55      1.00      0.71        33\n",
      "          1       0.29      0.15      0.20        13\n",
      "          2       0.00      0.00      0.00        17\n",
      "          3       0.44      0.40      0.42        10\n",
      "          4       0.00      0.00      0.00         3\n",
      "\n",
      "avg / total       0.35      0.51      0.40        76\n",
      "\n",
      "Confusion matrix:\n",
      " [[33  0  0  0  0]\n",
      " [ 8  2  0  3  0]\n",
      " [11  4  0  2  0]\n",
      " [ 5  1  0  4  0]\n",
      " [ 3  0  0  0  0]]\n",
      "MultinomialNB accuracy on training data: 0.586\n",
      "MultinomialNB accuracy on test data: 0.526\n",
      "             precision    recall  f1-score   support\n",
      "\n",
      "          0       0.71      0.91      0.80        33\n",
      "          1       0.25      0.15      0.19        13\n",
      "          2       0.33      0.29      0.31        17\n",
      "          3       0.27      0.30      0.29        10\n",
      "          4       0.00      0.00      0.00         3\n",
      "\n",
      "avg / total       0.46      0.53      0.49        76\n",
      "\n",
      "GaussianNB accuracy on training data: 0.678\n",
      "GaussianNB accuracy on test data: 0.513\n",
      "             precision    recall  f1-score   support\n",
      "\n",
      "          0       0.88      0.88      0.88        33\n",
      "          1       0.25      0.38      0.30        13\n",
      "          2       0.33      0.24      0.28        17\n",
      "          3       0.14      0.10      0.12        10\n",
      "          4       0.00      0.00      0.00         3\n",
      "\n",
      "avg / total       0.52      0.51      0.51        76\n",
      "\n",
      "Logistic regression accuracy on training data: 0.67\n",
      "Logistic regression accuracy on test data: 0.539\n",
      "             precision    recall  f1-score   support\n",
      "\n",
      "          0       0.73      0.97      0.83        33\n",
      "          1       0.29      0.31      0.30        13\n",
      "          2       0.29      0.12      0.17        17\n",
      "          3       0.27      0.30      0.29        10\n",
      "          4       0.00      0.00      0.00         3\n",
      "\n",
      "avg / total       0.46      0.54      0.49        76\n",
      "\n",
      "Basic Random Forest (binary) accuracy on training data: 0.996\n",
      "Basic Random Forest (binary) accuracy on test data: 0.789\n",
      "             precision    recall  f1-score   support\n",
      "\n",
      "      False       0.83      0.79      0.81        43\n",
      "       True       0.74      0.79      0.76        33\n",
      "\n",
      "avg / total       0.79      0.79      0.79        76\n",
      "\n",
      "Tuned random forest (binary) accuracy on training data: 0.859\n",
      "Tuned random forest (binary) accuracy on test data: 0.868\n",
      "\n",
      "Classification report:\n",
      "              precision    recall  f1-score   support\n",
      "\n",
      "      False       0.95      0.81      0.88        43\n",
      "       True       0.79      0.94      0.86        33\n",
      "\n",
      "avg / total       0.88      0.87      0.87        76\n",
      "\n",
      "Confusion matrix:\n",
      " [[35  8]\n",
      " [ 2 31]]\n",
      "MultinomialNB (binary) accuracy on training data: 0.758\n",
      "MultinomialNB (binary) accuracy on test data: 0.803\n",
      "             precision    recall  f1-score   support\n",
      "\n",
      "      False       0.91      0.72      0.81        43\n",
      "       True       0.71      0.91      0.80        33\n",
      "\n",
      "avg / total       0.83      0.80      0.80        76\n",
      "\n",
      "GaussianNB (binary) accuracy on training data: 0.846\n",
      "GaussianNB (binary) accuracy on test data: 0.868\n",
      "             precision    recall  f1-score   support\n",
      "\n",
      "      False       0.95      0.81      0.88        43\n",
      "       True       0.79      0.94      0.86        33\n",
      "\n",
      "avg / total       0.88      0.87      0.87        76\n",
      "\n",
      "Logistic regression (binary) accuracy on training data: 0.846\n",
      "Logistic regression (binary) accuracy on test data: 0.868\n",
      "             precision    recall  f1-score   support\n",
      "\n",
      "      False       0.90      0.86      0.88        43\n",
      "       True       0.83      0.88      0.85        33\n",
      "\n",
      "avg / total       0.87      0.87      0.87        76\n",
      "\n",
      "SVM accuracy on training data: 1.0\n",
      "SVM accuracy on test data: 0.434\n",
      "             precision    recall  f1-score   support\n",
      "\n",
      "          0       0.43      1.00      0.61        33\n",
      "          1       0.00      0.00      0.00        13\n",
      "          2       0.00      0.00      0.00        17\n",
      "          3       0.00      0.00      0.00        10\n",
      "          4       0.00      0.00      0.00         3\n",
      "\n",
      "avg / total       0.19      0.43      0.26        76\n",
      "\n",
      "Linear SVM accuracy on training data: 0.678\n",
      "Linear SVM accuracy on test data: 0.539\n",
      "             precision    recall  f1-score   support\n",
      "\n",
      "          0       0.79      0.91      0.85        33\n",
      "          1       0.26      0.38      0.31        13\n",
      "          2       0.36      0.24      0.29        17\n",
      "          3       0.25      0.20      0.22        10\n",
      "          4       0.00      0.00      0.00         3\n",
      "\n",
      "avg / total       0.50      0.54      0.51        76\n",
      "\n",
      "SVM (binary) accuracy on training data: 1.0\n",
      "SVM (binary) accuracy on test data: 0.434\n",
      "             precision    recall  f1-score   support\n",
      "\n",
      "      False       0.00      0.00      0.00        43\n",
      "       True       0.43      1.00      0.61        33\n",
      "\n",
      "avg / total       0.19      0.43      0.26        76\n",
      "\n",
      "Linear SVM (binary) accuracy on training data: 0.423\n",
      "Linear SVM (binary) accuracy on test data: 0.566\n",
      "             precision    recall  f1-score   support\n",
      "\n",
      "      False       0.57      1.00      0.72        43\n",
      "       True       0.00      0.00      0.00        33\n",
      "\n",
      "avg / total       0.32      0.57      0.41        76\n",
      "\n",
      "Decision tree accuracy on training data: 1.0\n",
      "Decision tree accuracy on test data: 0.5\n",
      "             precision    recall  f1-score   support\n",
      "\n",
      "          0       0.75      0.82      0.78        33\n",
      "          1       0.11      0.15      0.13        13\n",
      "          2       0.40      0.24      0.30        17\n",
      "          3       0.50      0.50      0.50        10\n",
      "          4       0.00      0.00      0.00         3\n",
      "\n",
      "avg / total       0.50      0.50      0.49        76\n",
      "\n",
      "Decision tree (binary) accuracy on training data: 1.0\n",
      "Decision tree (binary) accuracy on test data: 0.789\n",
      "             precision    recall  f1-score   support\n",
      "\n",
      "      False       0.91      0.70      0.79        43\n",
      "       True       0.70      0.91      0.79        33\n",
      "\n",
      "avg / total       0.82      0.79      0.79        76\n",
      "\n",
      "Gradient boosting accuracy on training data: 0.982\n",
      "Gradient boosting accuracy on test data: 0.5\n",
      "             precision    recall  f1-score   support\n",
      "\n",
      "          0       0.70      0.91      0.79        33\n",
      "          1       0.29      0.31      0.30        13\n",
      "          2       0.30      0.18      0.22        17\n",
      "          3       0.12      0.10      0.11        10\n",
      "          4       0.00      0.00      0.00         3\n",
      "\n",
      "avg / total       0.44      0.50      0.46        76\n",
      "\n",
      "Gradient boosting (binary) accuracy on training data: 0.881\n",
      "Gradient boosting (binary) accuracy on test data: 0.842\n",
      "             precision    recall  f1-score   support\n",
      "\n",
      "      False       0.90      0.81      0.85        43\n",
      "       True       0.78      0.88      0.83        33\n",
      "\n",
      "avg / total       0.85      0.84      0.84        76\n",
      "\n",
      "SGD accuracy on training data: 0.581\n",
      "SGD accuracy on test data: 0.461\n",
      "             precision    recall  f1-score   support\n",
      "\n",
      "          0       0.49      1.00      0.65        33\n",
      "          1       0.00      0.00      0.00        13\n",
      "          2       0.00      0.00      0.00        17\n",
      "          3       0.29      0.20      0.24        10\n",
      "          4       0.00      0.00      0.00         3\n",
      "\n",
      "avg / total       0.25      0.46      0.31        76\n",
      "\n",
      "SGD (binary) accuracy on training data: 0.445\n",
      "SGD (binary) accuracy on test data: 0.579\n",
      "             precision    recall  f1-score   support\n",
      "\n",
      "      False       0.57      1.00      0.73        43\n",
      "       True       1.00      0.03      0.06        33\n",
      "\n",
      "avg / total       0.76      0.58      0.44        76\n",
      "\n",
      "Extra Trees accuracy on training data: 1.0\n"
     ]
    },
    {
     "name": "stderr",
     "output_type": "stream",
     "text": [
      "/Users/vickimoore/anaconda/lib/python3.6/site-packages/sklearn/metrics/classification.py:1113: UndefinedMetricWarning: Precision and F-score are ill-defined and being set to 0.0 in labels with no predicted samples.\n",
      "  'precision', 'predicted', average, warn_for)\n"
     ]
    },
    {
     "name": "stdout",
     "output_type": "stream",
     "text": [
      "Extra Trees accuracy on test data: 0.513\n",
      "             precision    recall  f1-score   support\n",
      "\n",
      "          0       0.62      0.91      0.74        33\n",
      "          1       0.31      0.31      0.31        13\n",
      "          2       0.40      0.12      0.18        17\n",
      "          3       0.22      0.20      0.21        10\n",
      "          4       1.00      0.33      0.50         3\n",
      "\n",
      "avg / total       0.48      0.51      0.46        76\n",
      "\n",
      "Extra Trees (binary) accuracy on training data: 1.0\n",
      "Extra Trees (binary) accuracy on test data: 0.829\n",
      "             precision    recall  f1-score   support\n",
      "\n",
      "      False       0.88      0.81      0.84        43\n",
      "       True       0.78      0.85      0.81        33\n",
      "\n",
      "avg / total       0.83      0.83      0.83        76\n",
      "\n",
      "XGBoost accuracy on training data: 0.995\n",
      "XGBoost accuracy on test data: 0.51\n",
      "             precision    recall  f1-score   support\n",
      "\n",
      "          0       0.75      0.91      0.83        47\n",
      "          1       0.18      0.25      0.21        16\n",
      "          2       0.27      0.17      0.21        18\n",
      "          3       0.11      0.07      0.09        14\n",
      "          4       0.00      0.00      0.00         5\n",
      "\n",
      "avg / total       0.45      0.51      0.47       100\n",
      "\n",
      "XGBoost (binary) accuracy on training data: 0.975\n",
      "XGBoost (binary) accuracy on test data: 0.86\n",
      "             precision    recall  f1-score   support\n",
      "\n",
      "      False       0.90      0.83      0.86        53\n",
      "       True       0.82      0.89      0.86        47\n",
      "\n",
      "avg / total       0.86      0.86      0.86       100\n",
      "\n",
      "Neural network accuracy on training data: 0.577\n",
      "Neural network accuracy on test data: 0.434\n",
      "             precision    recall  f1-score   support\n",
      "\n",
      "          0       0.43      1.00      0.61        33\n",
      "          1       0.00      0.00      0.00        13\n",
      "          2       0.00      0.00      0.00        17\n",
      "          3       0.00      0.00      0.00        10\n",
      "          4       0.00      0.00      0.00         3\n",
      "\n",
      "avg / total       0.19      0.43      0.26        76\n",
      "\n",
      "Neural network (binary) accuracy on training data: 0.423\n",
      "Neural network (binary) accuracy on test data: 0.566\n",
      "             precision    recall  f1-score   support\n",
      "\n",
      "      False       0.57      1.00      0.72        43\n",
      "       True       0.00      0.00      0.00        33\n",
      "\n",
      "avg / total       0.32      0.57      0.41        76\n",
      "\n"
     ]
    }
   ],
   "source": [
    "print('Basic Random Forest accuracy on training data:',round(rfcc.score(CX_train, cy_train),3))\n",
    "print('Basic Random Forest accuracy on test data:',round(rfcc.score(CX_test, cy_test),3))\n",
    "rfcc_pred = rfcc.predict(CX_test)\n",
    "print(classification_report(cy_test,rfcc_pred))\n",
    "\n",
    "print('Tuned random forest accuracy on training data:',round(rfcc_tuned.score(CX_train, cy_train),3))\n",
    "print('Tuned random forest accuracy on test data:',round(rfcc_tuned.score(CX_test, cy_test),3))\n",
    "print('\\nClassification report:\\n',classification_report(cy_true,cy_predict))\n",
    "print('Confusion matrix:\\n',confusion_matrix(cy_true,cy_predict))\n",
    "\n",
    "print('MultinomialNB accuracy on training data:',round(mnbc.score(CX1_train, cy1_train),3))\n",
    "print('MultinomialNB accuracy on test data:',round(mnbc.score(CX1_test, cy1_test),3))\n",
    "mnbc_pred = mnbc.predict(CX1_test)\n",
    "print(classification_report(cy1_test,mnbc_pred))\n",
    "\n",
    "print('GaussianNB accuracy on training data:',round(gnbc.score(CX2_train, cy2_train),3))\n",
    "print('GaussianNB accuracy on test data:',round(gnbc.score(CX2_test, cy2_test),3))\n",
    "gnbc_pred = gnbc.predict(CX2_test)\n",
    "print(classification_report(cy2_test,gnbc_pred))\n",
    "\n",
    "print('Logistic regression accuracy on training data:',round(logregc.score(CX3_train, cy3_train),3))\n",
    "print('Logistic regression accuracy on test data:',round(logregc.score(CX3_test, cy3_test),3))\n",
    "logregc_pred = logregc.predict(CX3_test)\n",
    "print(classification_report(cy3_test,logregc_pred))\n",
    "\n",
    "print('Basic Random Forest (binary) accuracy on training data:',round(rfccno.score(CX4_train, cy4_train),3))\n",
    "print('Basic Random Forest (binary) accuracy on test data:',round(rfccno.score(CX4_test, cy4_test),3))\n",
    "rfccno_pred = rfccno.predict(CX4_test)\n",
    "print(classification_report(cy4_test,rfccno_pred))\n",
    "\n",
    "print('Tuned random forest (binary) accuracy on training data:',round(rfccno_tuned.score(CX4_train, cy4_train),3))\n",
    "print('Tuned random forest (binary) accuracy on test data:',round(rfccno_tuned.score(CX4_test, cy4_test),3))\n",
    "print('\\nClassification report:\\n',classification_report(cy4_true,cy4_predict))\n",
    "print('Confusion matrix:\\n',confusion_matrix(cy4_true,cy4_predict))\n",
    "\n",
    "print('MultinomialNB (binary) accuracy on training data:',round(mnbcno.score(CX5_train, cy5_train),3))\n",
    "print('MultinomialNB (binary) accuracy on test data:',round(mnbcno.score(CX5_test, cy5_test),3))\n",
    "mnbcno_pred = mnbcno.predict(CX5_test)\n",
    "print(classification_report(cy5_test,mnbcno_pred))\n",
    "\n",
    "print('GaussianNB (binary) accuracy on training data:',round(gnbcno.score(CX6_train, cy6_train),3))\n",
    "print('GaussianNB (binary) accuracy on test data:',round(gnbcno.score(CX6_test, cy6_test),3))\n",
    "gnbcno_pred = gnbcno.predict(CX6_test)\n",
    "print(classification_report(cy6_test,gnbcno_pred))\n",
    "\n",
    "print('Logistic regression (binary) accuracy on training data:',round(logregcno.score(CX7_train, cy7_train),3))\n",
    "print('Logistic regression (binary) accuracy on test data:',round(logregcno.score(CX7_test, cy7_test),3))\n",
    "logregcno_pred = logregcno.predict(CX7_test)\n",
    "print(classification_report(cy7_test,logregcno_pred))\n",
    "\n",
    "print('SVM accuracy on training data:',round(sv.score(CX8_train, cy8_train),3))\n",
    "print('SVM accuracy on test data:',round(sv.score(CX8_test, cy8_test),3))\n",
    "sv_pred = sv.predict(CX8_test)\n",
    "print(classification_report(cy8_test,sv_pred))\n",
    "\n",
    "print('Linear SVM accuracy on training data:',round(svlin.score(CX9_train, cy9_train),3))\n",
    "print('Linear SVM accuracy on test data:',round(svlin.score(CX9_test, cy9_test),3))\n",
    "svlin_pred = svlin.predict(CX9_test)\n",
    "print(classification_report(cy9_test,svlin_pred))\n",
    "\n",
    "print('SVM (binary) accuracy on training data:',round(svno.score(CX10_train, cy10_train),3))\n",
    "print('SVM (binary) accuracy on test data:',round(svno.score(CX10_test, cy10_test),3))\n",
    "svno_pred = svno.predict(CX10_test)\n",
    "print(classification_report(cy10_test,svno_pred))\n",
    "\n",
    "print('Linear SVM (binary) accuracy on training data:',round(svlinno.score(CX11_train, cy11_train),3))\n",
    "print('Linear SVM (binary) accuracy on test data:',round(svlinno.score(CX11_test, cy11_test),3))\n",
    "svlinno_pred = svlinno.predict(CX11_test)\n",
    "print(classification_report(cy11_test,svlinno_pred))\n",
    "\n",
    "print('Decision tree accuracy on training data:',round(dt.score(CX12_train, cy12_train),3))\n",
    "print('Decision tree accuracy on test data:',round(dt.score(CX12_test, cy12_test),3))\n",
    "dt_pred = dt.predict(CX12_test)\n",
    "print(classification_report(cy12_test,dt_pred))\n",
    "\n",
    "print('Decision tree (binary) accuracy on training data:',round(dtno.score(CX13_train, cy13_train),3))\n",
    "print('Decision tree (binary) accuracy on test data:',round(dtno.score(CX13_test, cy13_test),3))\n",
    "dtno_pred = dtno.predict(CX13_test)\n",
    "print(classification_report(cy13_test,dtno_pred))\n",
    "\n",
    "print('Gradient boosting accuracy on training data:',round(gbc.score(CX14_train, cy14_train),3))\n",
    "print('Gradient boosting accuracy on test data:',round(gbc.score(CX14_test, cy14_test),3))\n",
    "gbc_pred = gbc.predict(CX14_test)\n",
    "print(classification_report(cy14_test,gbc_pred))\n",
    "\n",
    "print('Gradient boosting (binary) accuracy on training data:',round(gbcno.score(CX15_train, cy15_train),3))\n",
    "print('Gradient boosting (binary) accuracy on test data:',round(gbcno.score(CX15_test, cy15_test),3))\n",
    "gbcno_pred = gbcno.predict(CX15_test)\n",
    "print(classification_report(cy15_test,gbcno_pred))\n",
    "\n",
    "print('SGD accuracy on training data:',round(sgd.score(CX16_train, cy16_train),3))\n",
    "print('SGD accuracy on test data:',round(sgd.score(CX16_test, cy16_test),3))\n",
    "sgd_pred = sgd.predict(CX16_test)\n",
    "print(classification_report(cy16_test,sgd_pred))\n",
    "\n",
    "print('SGD (binary) accuracy on training data:',round(sgdno.score(CX17_train, cy17_train),3))\n",
    "print('SGD (binary) accuracy on test data:',round(sgdno.score(CX17_test, cy17_test),3))\n",
    "sgdno_pred = sgdno.predict(CX17_test)\n",
    "print(classification_report(cy17_test,sgdno_pred))\n",
    "\n",
    "print('Extra Trees accuracy on training data:',round(forest.score(CX25_train, cy25_train),3))\n",
    "print('Extra Trees accuracy on test data:',round(forest.score(CX25_test, cy25_test),3))\n",
    "forest_pred = forest.predict(CX25_test)\n",
    "print(classification_report(cy25_test,forest_pred))\n",
    "\n",
    "print('Extra Trees (binary) accuracy on training data:',round(foresta.score(CX20_train, cy20_train),3))\n",
    "print('Extra Trees (binary) accuracy on test data:',round(foresta.score(CX20_test, cy20_test),3))\n",
    "foresta_pred = foresta.predict(CX20_test)\n",
    "print(classification_report(cy20_test,foresta_pred))\n",
    "\n",
    "print('XGBoost accuracy on training data:',round(xgb.score(CX18_train, cy18_train),3))\n",
    "print('XGBoost accuracy on test data:',round(xgb.score(CX18_test, cy18_test),3))\n",
    "cy18_pred = xgb.predict(CX18_test)\n",
    "predictions1 = [round(value) for value in cy18_pred]\n",
    "print(classification_report(cy18_test,predictions1))\n",
    "\n",
    "print('XGBoost (binary) accuracy on training data:',round(xgbno.score(CX19_train, cy19_train),3))\n",
    "print('XGBoost (binary) accuracy on test data:',round(xgbno.score(CX19_test, cy19_test),3))\n",
    "cy19_pred = xgbno.predict(CX19_test)\n",
    "predictions2 = [round(value) for value in cy19_pred]\n",
    "print(classification_report(cy19_test,predictions2))\n",
    "\n",
    "print('Neural network accuracy on training data:',round(mlp.score(CX22_train, cy22_train),3))\n",
    "print('Neural network accuracy on test data:',round(mlp.score(CX22_test, cy22_test),3))\n",
    "predmlp = mlp.predict(CX22_test)\n",
    "print(classification_report(cy22_test,predmlp))\n",
    "\n",
    "print('Neural network (binary) accuracy on training data:',round(mlpno.score(CX23_train, cy23_train),3))\n",
    "print('Neural network (binary) accuracy on test data:',round(mlpno.score(CX23_test, cy23_test),3))\n",
    "predmlpno = mlpno.predict(CX23_test)\n",
    "print(classification_report(cy23_test,predmlpno))  \n"
   ]
  },
  {
   "cell_type": "markdown",
   "metadata": {},
   "source": [
    "## Table 6. Preliminary analysis of model performance on Cleveland data"
   ]
  },
  {
   "cell_type": "code",
   "execution_count": 35,
   "metadata": {},
   "outputs": [
    {
     "name": "stdout",
     "output_type": "stream",
     "text": [
      "\u001b[1m \n",
      " Table 5. Machine learning test results\n"
     ]
    },
    {
     "data": {
      "text/html": [
       "<table border=\"1\" class=\"dataframe\">\n",
       "  <thead>\n",
       "    <tr style=\"text-align: right;\">\n",
       "      <th>Classifier</th>\n",
       "      <th>Classification</th>\n",
       "      <th>Train accuracy</th>\n",
       "      <th>Test accuracy</th>\n",
       "    </tr>\n",
       "  </thead>\n",
       "  <tbody>\n",
       "    <tr>\n",
       "      <td>RF</td>\n",
       "      <td>full</td>\n",
       "      <td>0.987</td>\n",
       "      <td>0.526</td>\n",
       "    </tr>\n",
       "    <tr>\n",
       "      <td>Tuned RF</td>\n",
       "      <td>full</td>\n",
       "      <td>0.648</td>\n",
       "      <td>0.526</td>\n",
       "    </tr>\n",
       "    <tr>\n",
       "      <td>MNB</td>\n",
       "      <td>full</td>\n",
       "      <td>0.586</td>\n",
       "      <td>0.526</td>\n",
       "    </tr>\n",
       "    <tr>\n",
       "      <td>GNB</td>\n",
       "      <td>full</td>\n",
       "      <td>0.678</td>\n",
       "      <td>0.513</td>\n",
       "    </tr>\n",
       "    <tr>\n",
       "      <td>LogReg</td>\n",
       "      <td>full</td>\n",
       "      <td>0.670</td>\n",
       "      <td>0.539</td>\n",
       "    </tr>\n",
       "    <tr>\n",
       "      <td>RF</td>\n",
       "      <td>binary</td>\n",
       "      <td>0.996</td>\n",
       "      <td>0.789</td>\n",
       "    </tr>\n",
       "    <tr>\n",
       "      <td>Tuned RF</td>\n",
       "      <td>binary</td>\n",
       "      <td>0.859</td>\n",
       "      <td>0.868</td>\n",
       "    </tr>\n",
       "    <tr>\n",
       "      <td>MNB</td>\n",
       "      <td>binary</td>\n",
       "      <td>0.758</td>\n",
       "      <td>0.803</td>\n",
       "    </tr>\n",
       "    <tr>\n",
       "      <td>GNB</td>\n",
       "      <td>binary</td>\n",
       "      <td>0.846</td>\n",
       "      <td>0.868</td>\n",
       "    </tr>\n",
       "    <tr>\n",
       "      <td>LogReg</td>\n",
       "      <td>binary</td>\n",
       "      <td>0.846</td>\n",
       "      <td>0.868</td>\n",
       "    </tr>\n",
       "    <tr>\n",
       "      <td>SVM</td>\n",
       "      <td>full</td>\n",
       "      <td>1.000</td>\n",
       "      <td>0.434</td>\n",
       "    </tr>\n",
       "    <tr>\n",
       "      <td>LSVM</td>\n",
       "      <td>full</td>\n",
       "      <td>0.678</td>\n",
       "      <td>0.539</td>\n",
       "    </tr>\n",
       "    <tr>\n",
       "      <td>SVM</td>\n",
       "      <td>binary</td>\n",
       "      <td>1.000</td>\n",
       "      <td>0.434</td>\n",
       "    </tr>\n",
       "    <tr>\n",
       "      <td>LSVM</td>\n",
       "      <td>binary</td>\n",
       "      <td>0.423</td>\n",
       "      <td>0.566</td>\n",
       "    </tr>\n",
       "    <tr>\n",
       "      <td>DT</td>\n",
       "      <td>full</td>\n",
       "      <td>1.000</td>\n",
       "      <td>0.500</td>\n",
       "    </tr>\n",
       "    <tr>\n",
       "      <td>DT</td>\n",
       "      <td>binary</td>\n",
       "      <td>1.000</td>\n",
       "      <td>0.789</td>\n",
       "    </tr>\n",
       "    <tr>\n",
       "      <td>GB</td>\n",
       "      <td>full</td>\n",
       "      <td>0.982</td>\n",
       "      <td>0.500</td>\n",
       "    </tr>\n",
       "    <tr>\n",
       "      <td>GB</td>\n",
       "      <td>binary</td>\n",
       "      <td>0.881</td>\n",
       "      <td>0.842</td>\n",
       "    </tr>\n",
       "    <tr>\n",
       "      <td>SGD</td>\n",
       "      <td>full</td>\n",
       "      <td>0.581</td>\n",
       "      <td>0.461</td>\n",
       "    </tr>\n",
       "    <tr>\n",
       "      <td>SGD</td>\n",
       "      <td>binary</td>\n",
       "      <td>0.445</td>\n",
       "      <td>0.579</td>\n",
       "    </tr>\n",
       "    <tr>\n",
       "      <td>ET</td>\n",
       "      <td>full</td>\n",
       "      <td>1.000</td>\n",
       "      <td>0.513</td>\n",
       "    </tr>\n",
       "    <tr>\n",
       "      <td>ET</td>\n",
       "      <td>binary</td>\n",
       "      <td>1.000</td>\n",
       "      <td>0.829</td>\n",
       "    </tr>\n",
       "    <tr>\n",
       "      <td>XGB</td>\n",
       "      <td>full</td>\n",
       "      <td>0.995</td>\n",
       "      <td>0.510</td>\n",
       "    </tr>\n",
       "    <tr>\n",
       "      <td>XGB</td>\n",
       "      <td>binary</td>\n",
       "      <td>0.975</td>\n",
       "      <td>0.860</td>\n",
       "    </tr>\n",
       "    <tr>\n",
       "      <td>NN</td>\n",
       "      <td>full</td>\n",
       "      <td>0.577</td>\n",
       "      <td>0.434</td>\n",
       "    </tr>\n",
       "    <tr>\n",
       "      <td>NN</td>\n",
       "      <td>binary</td>\n",
       "      <td>0.423</td>\n",
       "      <td>0.566</td>\n",
       "    </tr>\n",
       "  </tbody>\n",
       "</table>"
      ],
      "text/plain": [
       "<IPython.core.display.HTML object>"
      ]
     },
     "metadata": {},
     "output_type": "display_data"
    }
   ],
   "source": [
    "accuracies = [['RF','full',round(rfcc.score(CX_train, cy_train),3),round(rfcc.score(CX_test, cy_test),3)], \n",
    "              ['Tuned RF','full',round(rfcc_tuned.score(CX_train, cy_train),3),round(rfcc.score(CX_test, cy_test),3)], \n",
    "              ['MNB','full',round(mnbc.score(CX1_train, cy1_train),3),round(mnbc.score(CX1_test, cy1_test),3)], \n",
    "              ['GNB','full',round(gnbc.score(CX2_train, cy2_train),3),round(gnbc.score(CX2_test, cy2_test),3)],\n",
    "             ['LogReg','full',round(logregc.score(CX3_train, cy3_train),3),round(logregc.score(CX3_test, cy3_test),3)],\n",
    "             ['RF', 'binary',round(rfccno.score(CX4_train, cy4_train),3),round(rfccno.score(CX4_test, cy4_test),3)],\n",
    "             ['Tuned RF','binary',round(rfccno_tuned.score(CX4_train, cy4_train),3),round(rfccno_tuned.score(CX4_test, cy4_test),3)],\n",
    "             ['MNB', 'binary',round(mnbcno.score(CX5_train, cy5_train),3),round(mnbcno.score(CX5_test, cy5_test),3)],\n",
    "             ['GNB','binary',round(gnbcno.score(CX6_train, cy6_train),3),round(gnbcno.score(CX6_test, cy6_test),3)],\n",
    "             ['LogReg', 'binary',round(logregcno.score(CX7_train, cy7_train),3),round(logregcno.score(CX7_test, cy7_test),3)],\n",
    "             ['SVM', 'full',round(sv.score(CX8_train, cy8_train),3),round(sv.score(CX8_test, cy8_test),3)],\n",
    "             ['LSVM', 'full',round(svlin.score(CX9_train, cy9_train),3),round(svlin.score(CX9_test, cy9_test),3)],\n",
    "             ['SVM','binary',round(svno.score(CX10_train, cy10_train),3),round(svno.score(CX10_test, cy10_test),3)],\n",
    "             ['LSVM', 'binary',round(svlinno.score(CX11_train, cy11_train),3),round(svlinno.score(CX11_test, cy11_test),3)],\n",
    "             ['DT', 'full',round(dt.score(CX12_train, cy12_train),3),round(dt.score(CX12_test, cy12_test),3)],\n",
    "             ['DT', 'binary',round(dtno.score(CX13_train, cy13_train),3),round(dtno.score(CX13_test, cy13_test),3)],\n",
    "             ['GB', 'full',round(gbc.score(CX14_train, cy14_train),3),round(gbc.score(CX14_test, cy14_test),3)],\n",
    "             ['GB', 'binary',round(gbcno.score(CX15_train, cy15_train),3),round(gbcno.score(CX15_test, cy15_test),3)],\n",
    "             ['SGD', 'full',round(sgd.score(CX16_train, cy16_train),3),round(sgd.score(CX16_test, cy16_test),3)],\n",
    "             ['SGD', 'binary',round(sgdno.score(CX17_train, cy17_train),3),round(sgdno.score(CX17_test, cy17_test),3)],\n",
    "             ['ET', 'full',round(forest.score(CX25_train, cy25_train),3),round(forest.score(CX25_test, cy25_test),3)],\n",
    "             ['ET', 'binary',round(foresta.score(CX20_train, cy20_train),3),round(foresta.score(CX20_test, cy20_test),3)],\n",
    "             ['XGB', 'full',round(xgb.score(CX18_train, cy18_train),3),round(xgb.score(CX18_test, cy18_test),3)],\n",
    "             ['XGB', 'binary',round(xgbno.score(CX19_train, cy19_train),3),round(xgbno.score(CX19_test, cy19_test),3)],\n",
    "             ['NN', 'full',round(mlp.score(CX22_train, cy22_train),3),round(mlp.score(CX22_test, cy22_test),3)],\n",
    "             ['NN', 'binary',round(mlpno.score(CX23_train, cy23_train),3),round(mlpno.score(CX23_test, cy23_test),3)]]\n",
    "accuraciesdf = pd.DataFrame(accuracies)\n",
    "accuraciesdf.columns=['Classifier', 'Classification', 'Train accuracy', 'Test accuracy']\n",
    "print('\\033[1m \\n Table 5. Machine learning test results')\n",
    "display(HTML(accuraciesdf.to_html(index=False)))"
   ]
  },
  {
   "cell_type": "markdown",
   "metadata": {},
   "source": [
    "## Figure 11. Model performance on the Cleveland subset"
   ]
  },
  {
   "cell_type": "code",
   "execution_count": 36,
   "metadata": {},
   "outputs": [
    {
     "data": {
      "image/png": "[encoded data removed]",
      "text/plain": [
       "<matplotlib.figure.Figure at 0x113e797f0>"
      ]
     },
     "metadata": {},
     "output_type": "display_data"
    }
   ],
   "source": [
    "#sns.set(font_scale=1.20)\n",
    "sns.set_context(rc={\"figure.figsize\": (10, 8)})\n",
    "sns.barplot(x=\"Classifier\", y=\"Test accuracy\", hue=\"Classification\", data=accuraciesdf)\n",
    "plt.legend(bbox_to_anchor=(1.0, 1))\n",
    "plt.show()"
   ]
  },
  {
   "cell_type": "code",
   "execution_count": 37,
   "metadata": {},
   "outputs": [
    {
     "ename": "ModuleNotFoundError",
     "evalue": "No module named 'shap'",
     "output_type": "error",
     "traceback": [
      "\u001b[0;31m---------------------------------------------------------------------------\u001b[0m",
      "\u001b[0;31mModuleNotFoundError\u001b[0m                       Traceback (most recent call last)",
      "\u001b[0;32m<ipython-input-37-3d06d059db53>\u001b[0m in \u001b[0;36m<module>\u001b[0;34m()\u001b[0m\n\u001b[1;32m      1\u001b[0m \u001b[0;32mfrom\u001b[0m \u001b[0mxgboost\u001b[0m \u001b[0;32mimport\u001b[0m \u001b[0mXGBClassifier\u001b[0m\u001b[0;34m,\u001b[0m \u001b[0mDMatrix\u001b[0m\u001b[0;34m\u001b[0m\u001b[0m\n\u001b[0;32m----> 2\u001b[0;31m \u001b[0;32mimport\u001b[0m \u001b[0mshap\u001b[0m\u001b[0;34m\u001b[0m\u001b[0m\n\u001b[0m\u001b[1;32m      3\u001b[0m \u001b[0;34m\u001b[0m\u001b[0m\n\u001b[1;32m      4\u001b[0m \u001b[0mXnp\u001b[0m \u001b[0;34m=\u001b[0m \u001b[0mnp\u001b[0m\u001b[0;34m.\u001b[0m\u001b[0masarray\u001b[0m\u001b[0;34m(\u001b[0m\u001b[0mX\u001b[0m\u001b[0;34m)\u001b[0m\u001b[0;34m\u001b[0m\u001b[0m\n\u001b[1;32m      5\u001b[0m \u001b[0mynp\u001b[0m \u001b[0;34m=\u001b[0m \u001b[0mnp\u001b[0m\u001b[0;34m.\u001b[0m\u001b[0masarray\u001b[0m\u001b[0;34m(\u001b[0m\u001b[0;34m(\u001b[0m\u001b[0mcleveland_dfnoL\u001b[0m\u001b[0;34m.\u001b[0m\u001b[0mnum\u001b[0m \u001b[0;34m==\u001b[0m \u001b[0;36m0\u001b[0m\u001b[0;34m)\u001b[0m\u001b[0;34m.\u001b[0m\u001b[0mvalues\u001b[0m\u001b[0;34m)\u001b[0m\u001b[0;34m\u001b[0m\u001b[0m\n",
      "\u001b[0;31mModuleNotFoundError\u001b[0m: No module named 'shap'"
     ]
    }
   ],
   "source": [
    "from xgboost import XGBClassifier, DMatrix\n",
    "import shap\n",
    "\n",
    "Xnp = np.asarray(X)\n",
    "ynp = np.asarray((cleveland_dfnoL.num == 0).values)\n",
    "print(Xnp.shape)\n",
    "xgbpred = XGBClassifier()\n",
    "xgbpred.fit(Xnp, ynp)\n",
    "booster = xgbpred.get_booster()\n",
    "# Using only a single sample for predict, you can use multiple\n",
    "test_X = [Xnp[30]]\n",
    "\n",
    "# Wrapping the test X into a DMatrix, need by Booster\n",
    "predictions = booster.predict(DMatrix(test_X), pred_contribs=True)\n",
    "\n",
    "print(predictions.shape)\n",
    "print(predictions)\n",
    "print(predictions.sum())"
   ]
  },
  {
   "cell_type": "code",
   "execution_count": null,
   "metadata": {
    "collapsed": true
   },
   "outputs": [],
   "source": [
    "#For heart disease presence as the positive signal\n",
    "#With training xgboost before pred_contribs - so far output very similar\n",
    "\n",
    "from xgboost import XGBClassifier, DMatrix\n",
    "test_size = 0.2\n",
    "Xnp = np.asarray(X)\n",
    "ynp = np.asarray((cleveland_dfnoL.num >= 1).values)\n",
    "#ynp = np.asarray(all_three_df_location.num)\n",
    "y = (cleveland_dfnoL.num >= 1).values\n",
    "\n",
    "print(Xnp.shape)\n",
    "#xgbpred = XGBClassifier()\n",
    "X51_train, X51_test, y51_train, y51_test = train_test_split(Xnp, ynp, test_size=test_size, random_state=29)\n",
    "xgbpredtrain = XGBClassifier()\n",
    "xgbpredtrain.fit(X51_train, y51_train)\n",
    "boostertrain = xgbpredtrain.get_booster()\n",
    "# Using only a single sample for predict, you can use multiple\n",
    "test_X51 = [Xnp[0]]\n",
    "\n",
    "# Wrapping the test X into a DMatrix, need by Booster\n",
    "predictionstrain = boostertrain.predict(DMatrix(test_X51), pred_contribs=True)\n",
    "\n",
    "print(predictionstrain.shape)\n",
    "print(predictionstrain)\n",
    "print(predictionstrain.sum())\n",
    "print(X.columns)"
   ]
  },
  {
   "cell_type": "code",
   "execution_count": null,
   "metadata": {
    "collapsed": true
   },
   "outputs": [],
   "source": [
    "import shap\n",
    "import xgboost\n",
    "\n",
    "#binary test with y being true for presence of heart disease\n",
    "y = (cleveland_dfnoL.num >= 1).values\n",
    "xgb_full = xgboost.DMatrix(X, label=y)\n",
    "\n",
    "\n",
    "# create a train/test split\n",
    "X50_train, X50_test, y50_train, y50_test = train_test_split(X, y, test_size=0.2, random_state=7)\n",
    "xgb50_train = xgboost.DMatrix(X50_train, label=y50_train)\n",
    "xgb50_test = xgboost.DMatrix(X50_test, label=y50_test)\n",
    "# use validation set to choose # of trees\n",
    "#params = {\"eta\": 0.002,\"max_depth\": 3,\"objective\": \"survival:cox\",\"subsample\": 0.5}\n",
    "#model_train = xgboost.train(params, xgb_train, 10000, evals = [(xgb_test, \"test\")], verbose_eval=1000)\n",
    "#model_train = xgboost.train(xgb50_train, 500, evals = [(xgb50_test, \"test\")])\n",
    "#model = xgboost.train(params, xgb_full, 100, evals = [(xgb_full, \"test\")])\n",
    "\n",
    "\n",
    "\n",
    "# load JS visualization code to notebook\n",
    "shap.initjs() \n",
    "\n",
    "# train XGBoost model; integer in xgboost.train is number of iterations; 500 and 800 gave same answer. 400, 100 didn't.\n",
    "#X,y = shap.datasets.boston()\n",
    "#model = xgboost.train({\"learning_rate\": 0.01}, xgboost.DMatrix(X, label=y), 100)\n",
    "model = xgboost.train({\"learning_rate\": 0.01}, xgboost.DMatrix(X50_train, label=y50_train), 500)\n",
    "\n",
    "# explain the model's predictions using SHAP values\n",
    "# (same syntax works for LightGBM, CatBoost, and scikit-learn models)\n",
    "shap_values = shap.TreeExplainer(model).shap_values(X)\n",
    "\n",
    "# visualize the first prediction's explanation\n",
    "shap.force_plot(shap_values[0,:], X.iloc[0,:])"
   ]
  },
  {
   "cell_type": "code",
   "execution_count": null,
   "metadata": {
    "collapsed": true
   },
   "outputs": [],
   "source": [
    "shap.force_plot(shap_values, X)"
   ]
  },
  {
   "cell_type": "markdown",
   "metadata": {},
   "source": [
    "## Figure 21. Summary plot of SHAP values with XGBoost and the Cleveland subset (binary target)"
   ]
  },
  {
   "cell_type": "code",
   "execution_count": null,
   "metadata": {
    "collapsed": true
   },
   "outputs": [],
   "source": [
    "# summarize the effects of all the features\n",
    "shap.summary_plot(shap_values, X)"
   ]
  },
  {
   "cell_type": "code",
   "execution_count": null,
   "metadata": {
    "collapsed": true
   },
   "outputs": [],
   "source": [
    "Xlimit = X.drop('age', axis = 1)\n",
    "Xlimitnp = np.asarray(Xlimit)\n",
    "ynp = np.asarray(cleveland_dfnoL.num)\n",
    "#Xnp = X.as_matrix()\n",
    "#ynp = cleveland_dfnoL.num.as_matrix()\n",
    "print(Xlimitnp.shape)\n",
    "print(ynp.shape)\n",
    "#Xnp.reshape((303,13))\n",
    "#ynp.reshape((303,))\n",
    "#print(Xnp)\n",
    "#print(ynp)\n",
    "\n",
    "'''\n",
    "Xlimitnp_train, Xlimitnp_test, ynp_train, ynp_test = train_test_split(Xlimitnp, ynp, random_state=29)\n",
    "rfclimelimit = RandomForestClassifier(max_depth=9, min_samples_leaf=3, n_estimators=9)\n",
    "rfclimelimit.fit(Xlimitnp_train, ynp_train)\n",
    "\n",
    "predict_fn_rfclimelimit = lambda xlimit: rfclimelimit.predict_proba(Xlimitnp).astype(float)\n",
    "\n",
    "cat_columns = []\n",
    "train_cat_features_ver2 = ()\n",
    "train_int_features = ()\n",
    "#train_float_features = ('age', 'sex', 'cp', 'trestbps', 'chol', 'fbs', 'restecg', 'thalach', 'exang', 'oldpeak', 'slope', 'ca', 'thal')\n",
    "train_float_features = ('thal','sex','cp','trestbps','chol','fbs','restecg','thalach','exang','oldpeak','slope','ca')\n",
    "feature_names_cat = list(train_cat_features_ver2)\n",
    "feature_names_float = list(train_float_features)\n",
    "feature_names_int = list(train_int_features)\n",
    "feature_names = sum([feature_names_float, feature_names_cat, feature_names_int],[])\n",
    "print(feature_names)\n",
    "class_names = [0,1,2,3,4]\n",
    "print(class_names)\n",
    "\n",
    "categorical_featureslimit = np.argwhere(np.array([len(set(Xlimitnp[:,xlimit]))\n",
    "    for xlimit in range(Xlimitnp.shape[1])]) <= 10).flatten()\n",
    "\n",
    "explainerlimit = lime.lime_tabular.LimeTabularExplainer(Xlimitnp_train, feature_names=feature_names, class_names=class_names, categorical_features=categorical_features, discretize_continuous=True)\n",
    "i = 30\n",
    "explimit = explainerlimit.explain_instance(Xlimitnp_test[i], predict_fn_rfclimelimit, num_features=12)\n",
    "\n",
    "explimit.show_in_notebook(show_all=False)\n",
    "print(ynp_test[i])\n",
    "'''\n"
   ]
  },
  {
   "cell_type": "code",
   "execution_count": null,
   "metadata": {
    "collapsed": true
   },
   "outputs": [],
   "source": [
    "print(ynp)"
   ]
  },
  {
   "cell_type": "code",
   "execution_count": null,
   "metadata": {
    "collapsed": true
   },
   "outputs": [],
   "source": [
    "from sklearn.metrics import roc_auc_score, roc_curve\n",
    "\n",
    "y_pred_prob = rfccno_tuned.predict_proba(CX4_test)[:,1]\n",
    "print('ROC score for tuned Random Forest model:', round(roc_auc_score(cy4_test, y_pred_prob),4))\n",
    "fpr, tpr, thresholds = roc_curve(cy4_test, y_pred_prob)\n",
    "plt.plot([0,1],[0,1],'k--')\n",
    "plt.plot(fpr,tpr, label='Random forest')\n",
    "plt.xlabel('False Positive Rate')\n",
    "plt.ylabel('True Positive Rate')\n",
    "plt.title('Random Forest ROC Curve')\n",
    "plt.show()"
   ]
  },
  {
   "cell_type": "code",
   "execution_count": null,
   "metadata": {
    "collapsed": true
   },
   "outputs": [],
   "source": [
    "y_pred_probx = xgbno.predict_proba(CX19_test)[:,1]\n",
    "print('ROC score for XGBoost model:', round(roc_auc_score(cy19_test, y_pred_probx),4))\n",
    "fpr, tpr, thresholds = roc_curve(cy19_test, y_pred_probx)\n",
    "plt.plot([0,1],[0,1],'k--')\n",
    "plt.plot(fpr,tpr, label='XGBoost')\n",
    "plt.xlabel('False Positive Rate')\n",
    "plt.ylabel('True Positive Rate')\n",
    "plt.title('XGBoost ROC Curve')\n",
    "plt.show()"
   ]
  },
  {
   "cell_type": "code",
   "execution_count": null,
   "metadata": {
    "collapsed": true
   },
   "outputs": [],
   "source": [
    "from sklearn.metrics import precision_recall_curve\n",
    "from sklearn.metrics import auc\n",
    "\n",
    "y_pred = rfccno_tuned.predict_proba(CX4_test)[:,1]\n",
    "p, r, _ = precision_recall_curve(cy4_test, y_pred)\n",
    "\n",
    "plt.plot([0,1],[0,1],'k--')\n",
    "plt.plot(p,r, label='Random forest')\n",
    "plt.xlabel('Recall')\n",
    "plt.ylabel('Precision')\n",
    "plt.title('Random Forest PR Curve')\n",
    "plt.show()"
   ]
  },
  {
   "cell_type": "code",
   "execution_count": null,
   "metadata": {
    "collapsed": true
   },
   "outputs": [],
   "source": [
    "y_predx = xgbno.predict_proba(CX19_test)[:,1]\n",
    "px, rx, _ = precision_recall_curve(cy19_test, y_predx)\n",
    "\n",
    "plt.plot([0,1],[0,1],'k--')\n",
    "plt.plot(px,rx, label='XGBoost')\n",
    "plt.xlabel('Recall')\n",
    "plt.ylabel('Precision')\n",
    "plt.title('XGBoost PR Curve')\n",
    "plt.show()"
   ]
  },
  {
   "cell_type": "markdown",
   "metadata": {},
   "source": [
    "## Table 8. Ranking of tuned models on Cleveland subset (binary classification)"
   ]
  },
  {
   "cell_type": "code",
   "execution_count": null,
   "metadata": {
    "collapsed": true
   },
   "outputs": [],
   "source": [
    "from sklearn.model_selection import GridSearchCV\n",
    "\n",
    "\n",
    "#y = all_three_df_location.num\n",
    "y = (cleveland_dfnoL.num == 0).values\n",
    "X_train, X_test, y_train, y_test = train_test_split(X, y, random_state=29)\n",
    "\n",
    "class EstimatorSelectionHelper:\n",
    "    def __init__(self, models, params):\n",
    "        if not set(models.keys()).issubset(set(params.keys())):\n",
    "            missing_params = list(set(models.keys()) - set(params.keys()))\n",
    "            raise ValueError(\"Some estimators are missing parameters: %s\" % missing_params)\n",
    "        self.models = models\n",
    "        self.params = params\n",
    "        self.keys = models.keys()\n",
    "        self.grid_searches = {}\n",
    "    \n",
    "    def fit(self, X_train, y_train, cv=3, n_jobs=1, verbose=1, scoring=None, refit=False):\n",
    "        for key in self.keys:\n",
    "            print(\"Running GridSearchCV for %s.\" % key)\n",
    "            model = self.models[key]\n",
    "            params = self.params[key]\n",
    "            gs = GridSearchCV(model, params, cv=cv, n_jobs=n_jobs, \n",
    "                              verbose=verbose, scoring=scoring, refit=refit)\n",
    "            gs.fit(X_train,y_train)\n",
    "            self.grid_searches[key] = gs    \n",
    "    \n",
    "    def score_summary(self, sort_by='mean_score'):\n",
    "        def row(key, scores, params):\n",
    "            d = {\n",
    "                 'estimator': key,\n",
    "                 'min_score': min(scores),\n",
    "                 'max_score': max(scores),\n",
    "                 'mean_score': np.mean(scores),\n",
    "                 'std_score': np.std(scores),\n",
    "            }\n",
    "            return pd.Series({**params,**d})\n",
    "                      \n",
    "        rows = []\n",
    "        for k in self.grid_searches:\n",
    "            print(k)\n",
    "            params = self.grid_searches[k].cv_results_['params']\n",
    "            scores = []\n",
    "            for i in range(self.grid_searches[k].cv):\n",
    "                key = \"split{}_test_score\".format(i)\n",
    "                r = self.grid_searches[k].cv_results_[key]\n",
    "                scores.append(r.reshape(len(params),1))\n",
    "            all_scores = np.hstack(scores)\n",
    "            for p,s in zip(params,all_scores):\n",
    "                rows.append((row(k,s,p)))\n",
    "        df = pd.concat(rows, axis=1).T.sort_values([sort_by], ascending=False)\n",
    "        \n",
    "        columns = ['estimator', 'min_score', 'mean_score', 'max_score', 'std_score']\n",
    "        columns = columns + [c for c in df.columns if c not in columns]\n",
    "        \n",
    "        return df[columns]"
   ]
  },
  {
   "cell_type": "code",
   "execution_count": null,
   "metadata": {
    "collapsed": true,
    "scrolled": false
   },
   "outputs": [],
   "source": [
    "from sklearn.ensemble import (ExtraTreesClassifier, RandomForestClassifier, \n",
    "                              AdaBoostClassifier, GradientBoostingClassifier)\n",
    "from sklearn.svm import SVC\n",
    "from xgboost import XGBClassifier\n",
    "from sklearn.naive_bayes import MultinomialNB, GaussianNB\n",
    "from sklearn.neural_network import MLPClassifier \n",
    "from sklearn.linear_model import LogisticRegression\n",
    "\n",
    "models1 = { \n",
    "    'ExtraTreesClassifier': ExtraTreesClassifier(),\n",
    "    'RandomForestClassifier': RandomForestClassifier(),\n",
    "    'AdaBoostClassifier': AdaBoostClassifier(),\n",
    "    'GradientBoostingClassifier': GradientBoostingClassifier(),\n",
    "    'XGBClassifier': XGBClassifier(),\n",
    "    'SVC': SVC(),\n",
    "    'LogisticRegression': LogisticRegression()\n",
    "}\n",
    "\n",
    "params1 = { \n",
    "    'ExtraTreesClassifier': { 'n_estimators': [16, 32, 100] },\n",
    "    'RandomForestClassifier': { 'n_estimators': [16, 32, 100] },\n",
    "    'AdaBoostClassifier':  { 'n_estimators': [16, 32, 100] },\n",
    "    'GradientBoostingClassifier': { 'n_estimators': [16, 32, 100], 'learning_rate': [0.8, 1.0] },\n",
    "    'XGBClassifier': [{ 'n_estimators': [16, 32, 100]}, {'max_depth': [4, 20]}, {'min_child_weight': [1, 10]}, {'gamma': [0.01, 0.1]}],\n",
    "    'LogisticRegression': {'C': [0.01, 0.1, 1, 10, 100]},\n",
    "    'SVC': [\n",
    "        {'kernel': ['linear'], 'C': [1, 10]},\n",
    "        {'kernel': ['rbf'], 'C': [1, 10], 'gamma': [0.001, 0.0001]},\n",
    "    ]\n",
    "}\n",
    "\n",
    "helper1 = EstimatorSelectionHelper(models1, params1)\n",
    "helper1.fit(X_train, y_train, scoring='f1', n_jobs=-1)\n",
    "\n",
    "helper1.score_summary(sort_by='mean_score')"
   ]
  },
  {
   "cell_type": "code",
   "execution_count": null,
   "metadata": {
    "collapsed": true
   },
   "outputs": [],
   "source": [
    "'''\n",
    "linear_lr = LogisticRegression()\n",
    "linear_lr.fit(CX3_train, cy3_train)\n",
    "\n",
    "\n",
    "# explain all the predictions in the test set\n",
    "shap_values = shap.KernelExplainer(linear_lr.predict_proba, CX3_train).shap_values(CX3_test)\n",
    "shap.force_plot(shap_values[0], CX3_test)\n",
    "'''\n"
   ]
  },
  {
   "cell_type": "code",
   "execution_count": null,
   "metadata": {
    "collapsed": true
   },
   "outputs": [],
   "source": []
  }
 ],
 "metadata": {
  "kernelspec": {
   "display_name": "Python 3",
   "language": "python",
   "name": "python3"
  },
  "language_info": {
   "codemirror_mode": {
    "name": "ipython",
    "version": 3
   },
   "file_extension": ".py",
   "mimetype": "text/x-python",
   "name": "python",
   "nbconvert_exporter": "python",
   "pygments_lexer": "ipython3",
   "version": "3.6.1"
  }
 },
 "nbformat": 4,
 "nbformat_minor": 2
}
