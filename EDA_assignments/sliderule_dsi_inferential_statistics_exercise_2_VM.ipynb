{
 "cells": [
  {
   "cell_type": "markdown",
   "metadata": {},
   "source": [
    "# Examining Racial Discrimination in the US Job Market\n",
    "\n",
    "### Background\n",
    "Racial discrimination continues to be pervasive in cultures throughout the world. Researchers examined the level of racial discrimination in the United States labor market by randomly assigning identical résumés to black-sounding or white-sounding names and observing the impact on requests for interviews from employers.\n",
    "\n",
    "### Data\n",
    "In the dataset provided, each row represents a resume. The 'race' column has two values, 'b' and 'w', indicating black-sounding and white-sounding. The column 'call' has two values, 1 and 0, indicating whether the resume received a call from employers or not.\n",
    "\n",
    "Note that the 'b' and 'w' values in race are assigned randomly to the resumes when presented to the employer."
   ]
  },
  {
   "cell_type": "markdown",
   "metadata": {},
   "source": [
    "<div class=\"span5 alert alert-info\">\n",
    "### Exercises\n",
    "You will perform a statistical analysis to establish whether race has a significant impact on the rate of callbacks for resumes.\n",
    "\n",
    "Answer the following questions **in this notebook below and submit to your Github account**. \n",
    "\n",
    "   1. What test is appropriate for this problem? Does CLT apply?\n",
    "   2. What are the null and alternate hypotheses?\n",
    "   3. Compute margin of error, confidence interval, and p-value. Try using both the bootstrapping and the frequentist statistical approaches.\n",
    "   4. Write a story describing the statistical significance in the context or the original problem.\n",
    "   5. Does your analysis mean that race/name is the most important factor in callback success? Why or why not? If not, how would you amend your analysis?\n",
    "\n",
    "You can include written notes in notebook cells using Markdown: \n",
    "   - In the control panel at the top, choose Cell > Cell Type > Markdown\n",
    "   - Markdown syntax: http://nestacms.com/docs/creating-content/markdown-cheat-sheet\n",
    "\n",
    "\n",
    "#### Resources\n",
    "+ Experiment information and data source: http://www.povertyactionlab.org/evaluation/discrimination-job-market-united-states\n",
    "+ Scipy statistical methods: http://docs.scipy.org/doc/scipy/reference/stats.html \n",
    "+ Markdown syntax: http://nestacms.com/docs/creating-content/markdown-cheat-sheet\n",
    "+ Formulas for the Bernoulli distribution: https://en.wikipedia.org/wiki/Bernoulli_distribution\n",
    "</div>\n",
    "****"
   ]
  },
  {
   "cell_type": "code",
   "execution_count": 1,
   "metadata": {
    "collapsed": true
   },
   "outputs": [],
   "source": [
    "import pandas as pd\n",
    "import numpy as np\n",
    "from scipy import stats"
   ]
  },
  {
   "cell_type": "code",
   "execution_count": 2,
   "metadata": {
    "collapsed": true
   },
   "outputs": [],
   "source": [
    "data = pd.io.stata.read_stata('/Users/vickimoore/Downloads/EDA_racial_discrimination/data/us_job_market_discrimination.dta')"
   ]
  },
  {
   "cell_type": "markdown",
   "metadata": {},
   "source": [
    "# Information about the dataset"
   ]
  },
  {
   "cell_type": "code",
   "execution_count": 3,
   "metadata": {},
   "outputs": [
    {
     "name": "stdout",
     "output_type": "stream",
     "text": [
      "235.0\n",
      "157.0\n"
     ]
    }
   ],
   "source": [
    "# number of callbacks based on race associated with names\n",
    "print(sum(data[data.race=='w'].call))\n",
    "print(sum(data[data.race=='b'].call))"
   ]
  },
  {
   "cell_type": "code",
   "execution_count": 8,
   "metadata": {},
   "outputs": [
    {
     "data": {
      "text/html": [
       "<div>\n",
       "<style>\n",
       "    .dataframe thead tr:only-child th {\n",
       "        text-align: right;\n",
       "    }\n",
       "\n",
       "    .dataframe thead th {\n",
       "        text-align: left;\n",
       "    }\n",
       "\n",
       "    .dataframe tbody tr th {\n",
       "        vertical-align: top;\n",
       "    }\n",
       "</style>\n",
       "<table border=\"1\" class=\"dataframe\">\n",
       "  <thead>\n",
       "    <tr style=\"text-align: right;\">\n",
       "      <th></th>\n",
       "      <th>id</th>\n",
       "      <th>ad</th>\n",
       "      <th>education</th>\n",
       "      <th>ofjobs</th>\n",
       "      <th>yearsexp</th>\n",
       "      <th>honors</th>\n",
       "      <th>volunteer</th>\n",
       "      <th>military</th>\n",
       "      <th>empholes</th>\n",
       "      <th>occupspecific</th>\n",
       "      <th>...</th>\n",
       "      <th>compreq</th>\n",
       "      <th>orgreq</th>\n",
       "      <th>manuf</th>\n",
       "      <th>transcom</th>\n",
       "      <th>bankreal</th>\n",
       "      <th>trade</th>\n",
       "      <th>busservice</th>\n",
       "      <th>othservice</th>\n",
       "      <th>missind</th>\n",
       "      <th>ownership</th>\n",
       "    </tr>\n",
       "  </thead>\n",
       "  <tbody>\n",
       "    <tr>\n",
       "      <th>0</th>\n",
       "      <td>b</td>\n",
       "      <td>1</td>\n",
       "      <td>4</td>\n",
       "      <td>2</td>\n",
       "      <td>6</td>\n",
       "      <td>0</td>\n",
       "      <td>0</td>\n",
       "      <td>0</td>\n",
       "      <td>1</td>\n",
       "      <td>17</td>\n",
       "      <td>...</td>\n",
       "      <td>1.0</td>\n",
       "      <td>0.0</td>\n",
       "      <td>1.0</td>\n",
       "      <td>0.0</td>\n",
       "      <td>0.0</td>\n",
       "      <td>0.0</td>\n",
       "      <td>0.0</td>\n",
       "      <td>0.0</td>\n",
       "      <td>0.0</td>\n",
       "      <td></td>\n",
       "    </tr>\n",
       "    <tr>\n",
       "      <th>1</th>\n",
       "      <td>b</td>\n",
       "      <td>1</td>\n",
       "      <td>3</td>\n",
       "      <td>3</td>\n",
       "      <td>6</td>\n",
       "      <td>0</td>\n",
       "      <td>1</td>\n",
       "      <td>1</td>\n",
       "      <td>0</td>\n",
       "      <td>316</td>\n",
       "      <td>...</td>\n",
       "      <td>1.0</td>\n",
       "      <td>0.0</td>\n",
       "      <td>1.0</td>\n",
       "      <td>0.0</td>\n",
       "      <td>0.0</td>\n",
       "      <td>0.0</td>\n",
       "      <td>0.0</td>\n",
       "      <td>0.0</td>\n",
       "      <td>0.0</td>\n",
       "      <td></td>\n",
       "    </tr>\n",
       "    <tr>\n",
       "      <th>2</th>\n",
       "      <td>b</td>\n",
       "      <td>1</td>\n",
       "      <td>4</td>\n",
       "      <td>1</td>\n",
       "      <td>6</td>\n",
       "      <td>0</td>\n",
       "      <td>0</td>\n",
       "      <td>0</td>\n",
       "      <td>0</td>\n",
       "      <td>19</td>\n",
       "      <td>...</td>\n",
       "      <td>1.0</td>\n",
       "      <td>0.0</td>\n",
       "      <td>1.0</td>\n",
       "      <td>0.0</td>\n",
       "      <td>0.0</td>\n",
       "      <td>0.0</td>\n",
       "      <td>0.0</td>\n",
       "      <td>0.0</td>\n",
       "      <td>0.0</td>\n",
       "      <td></td>\n",
       "    </tr>\n",
       "    <tr>\n",
       "      <th>3</th>\n",
       "      <td>b</td>\n",
       "      <td>1</td>\n",
       "      <td>3</td>\n",
       "      <td>4</td>\n",
       "      <td>6</td>\n",
       "      <td>0</td>\n",
       "      <td>1</td>\n",
       "      <td>0</td>\n",
       "      <td>1</td>\n",
       "      <td>313</td>\n",
       "      <td>...</td>\n",
       "      <td>1.0</td>\n",
       "      <td>0.0</td>\n",
       "      <td>1.0</td>\n",
       "      <td>0.0</td>\n",
       "      <td>0.0</td>\n",
       "      <td>0.0</td>\n",
       "      <td>0.0</td>\n",
       "      <td>0.0</td>\n",
       "      <td>0.0</td>\n",
       "      <td></td>\n",
       "    </tr>\n",
       "    <tr>\n",
       "      <th>4</th>\n",
       "      <td>b</td>\n",
       "      <td>1</td>\n",
       "      <td>3</td>\n",
       "      <td>3</td>\n",
       "      <td>22</td>\n",
       "      <td>0</td>\n",
       "      <td>0</td>\n",
       "      <td>0</td>\n",
       "      <td>0</td>\n",
       "      <td>313</td>\n",
       "      <td>...</td>\n",
       "      <td>1.0</td>\n",
       "      <td>1.0</td>\n",
       "      <td>0.0</td>\n",
       "      <td>0.0</td>\n",
       "      <td>0.0</td>\n",
       "      <td>0.0</td>\n",
       "      <td>0.0</td>\n",
       "      <td>1.0</td>\n",
       "      <td>0.0</td>\n",
       "      <td>Nonprofit</td>\n",
       "    </tr>\n",
       "  </tbody>\n",
       "</table>\n",
       "<p>5 rows × 65 columns</p>\n",
       "</div>"
      ],
      "text/plain": [
       "  id ad  education  ofjobs  yearsexp  honors  volunteer  military  empholes  \\\n",
       "0  b  1          4       2         6       0          0         0         1   \n",
       "1  b  1          3       3         6       0          1         1         0   \n",
       "2  b  1          4       1         6       0          0         0         0   \n",
       "3  b  1          3       4         6       0          1         0         1   \n",
       "4  b  1          3       3        22       0          0         0         0   \n",
       "\n",
       "   occupspecific    ...      compreq  orgreq  manuf  transcom  bankreal trade  \\\n",
       "0             17    ...          1.0     0.0    1.0       0.0       0.0   0.0   \n",
       "1            316    ...          1.0     0.0    1.0       0.0       0.0   0.0   \n",
       "2             19    ...          1.0     0.0    1.0       0.0       0.0   0.0   \n",
       "3            313    ...          1.0     0.0    1.0       0.0       0.0   0.0   \n",
       "4            313    ...          1.0     1.0    0.0       0.0       0.0   0.0   \n",
       "\n",
       "  busservice othservice  missind  ownership  \n",
       "0        0.0        0.0      0.0             \n",
       "1        0.0        0.0      0.0             \n",
       "2        0.0        0.0      0.0             \n",
       "3        0.0        0.0      0.0             \n",
       "4        0.0        1.0      0.0  Nonprofit  \n",
       "\n",
       "[5 rows x 65 columns]"
      ]
     },
     "execution_count": 8,
     "metadata": {},
     "output_type": "execute_result"
    }
   ],
   "source": [
    "data.head()"
   ]
  },
  {
   "cell_type": "markdown",
   "metadata": {},
   "source": [
    "# Statistical tests of the impact of race on applicants receiving calls\n",
    "\n",
    "The appropriate statistical tests to address any differences in allocation of calls to perceived race include chi-squared and t- or z-tests, since these are easily suited to comparisons of values from two sample populations with each other. First, we will look at chi-squared analysis, and then a z-test. A z-test is reasonable here because there is a very large sample size (n=4870), and the data represent the entirety of the experimentally-developed population of interest. Additionally, the z-test will be a test of proportions instead of a comparison of means since what is relevant is the number of calls in the context of the number of individuals from each condition.  \n",
    "\n",
    "There is not a reason to believe the central limit theorem would not apply here because we are examining randomly assigned and independently drawn samples. \n",
    "\n",
    "We can perform a permutation test on the study population to estimate whether sampling bias influences any differences in proportions, as we have full datasets for each subpopulation from which to draw permutations of sample data. This test will follow the chi-squared and z-statistic tests.\n",
    "\n",
    "The null hypothesis for each test that an individual's race does not influence whether the individual receives a call."
   ]
  },
  {
   "cell_type": "markdown",
   "metadata": {
    "collapsed": true
   },
   "source": [
    "## Chi-squared contingency tests\n",
    "First, we will look at the results of a manually calculated chi-squared test for an in-depth perspective on the calculations. Then, we will employ Scipy's formula for a chi-squared contingency test."
   ]
  },
  {
   "cell_type": "code",
   "execution_count": 89,
   "metadata": {},
   "outputs": [
    {
     "name": "stdout",
     "output_type": "stream",
     "text": [
      "Chi-squared value: 16.8790504143\n",
      "p < 0.001\n"
     ]
    },
    {
     "data": {
      "text/plain": [
       "16.879050414270221"
      ]
     },
     "execution_count": 89,
     "metadata": {},
     "output_type": "execute_result"
    }
   ],
   "source": [
    "w = data[data.race=='w']\n",
    "b = data[data.race=='b']\n",
    "\n",
    "#Manual calculation of chi-squared test. DF = 1.\n",
    "def chisq(a1,a2,b1,b2):\n",
    "    col_1a = ((a1+a2)/(a1+a2+b1+b2))*(a1+b1)\n",
    "    col_1b = ((a1+a2)/(a1+a2+b1+b2))*(a2+b2)\n",
    "    col_2a = ((b1+b2)/(a1+a2+b1+b2))*(a1+b1)\n",
    "    col_2b = ((b1+b2)/(a1+a2+b1+b2))*(a2+b2)\n",
    "    chi = (((a1-col_1a)**2)/col_1a)+(((a2-col_1b)**2)/col_1b)+(((b1-col_2a)**2)/col_2a)+(((b2-col_2b)**2)/col_2b)\n",
    "    print('Chi-squared value:', chi)\n",
    "    if chi >= 3.84 and chi < 6.63:\n",
    "        print('p <= 0.05')\n",
    "    elif chi >= 6.63 and chi < 11.0:\n",
    "        print('p <= 0.01')\n",
    "    elif chi >= 11.0:\n",
    "        print('p < 0.001')\n",
    "    else:\n",
    "        print('p > 0.05')\n",
    "    return chi\n",
    "chisq(np.sum(w.call == 1), np.sum(w.call == 0), np.sum(b.call == 1), np.sum(b.call == 0))"
   ]
  },
  {
   "cell_type": "code",
   "execution_count": 85,
   "metadata": {},
   "outputs": [
    {
     "name": "stdout",
     "output_type": "stream",
     "text": [
      "Chi-2 statistic: 16.4490285842 p-value: 4.99757838996e-05\n"
     ]
    }
   ],
   "source": [
    "#Chi-squared test with Scipy calculation.\n",
    "obs = np.array([[np.sum(w.call == 1), np.sum(w.call == 0)], [np.sum(b.call == 1), np.sum(b.call == 0)]])\n",
    "stats.chi2_contingency(obs)\n",
    "print(\"Chi-2 statistic:\",stats.chi2_contingency(obs)[0], \"p-value:\",stats.chi2_contingency(obs)[1])"
   ]
  },
  {
   "cell_type": "markdown",
   "metadata": {},
   "source": [
    "Both methods of calculating chi-squared statistics on the data of interest led to a chi-squared value just above 16 (16.9 and 16.4, respectively). The first calculation relied on finding p-values based on critical values for one degree of freedom found in reference tables (p < 0.001 for this statistic). The second calculation using Scipy's chi-squared contingency test function produced a p-value of 0.00005. These results should compel us to reject the null hypothesis that race does not affect callbacks, and with this extremely low p-value this is not an ambiguous result."
   ]
  },
  {
   "cell_type": "markdown",
   "metadata": {},
   "source": [
    "## Z-statistic on proportions\n",
    "There may be different numbers of individuals from either race within this experimental dataset, so instead of raw values for summary statistics, we will look at proportions of members of each race who receive calls and base z-statistics on these.  "
   ]
  },
  {
   "cell_type": "code",
   "execution_count": 86,
   "metadata": {},
   "outputs": [
    {
     "name": "stdout",
     "output_type": "stream",
     "text": [
      "z-statistic: -4.10841215243 p-value of z-statistic: 3.98388683758e-05\n"
     ]
    }
   ],
   "source": [
    "b_pr = np.sum(b.call) / len(b)\n",
    "w_pr = np.sum(w.call) / len(w)\n",
    "\n",
    "diff_pr = b_pr - w_pr\n",
    "pooled_pr = ((b_pr*len(b)) + (w_pr*len(w))) / (len(b) + len(w))\n",
    "se = np.sqrt(pooled_pr * (1 - pooled_pr) * ((1 / len(b)) + (1 / len(w))))\n",
    "\n",
    "z = diff_pr / se\n",
    "p_z = (1 - stats.norm.cdf(abs(z))) * 2\n",
    "print(\"z-statistic:\",z, \"p-value of z-statistic:\", p_z)"
   ]
  },
  {
   "cell_type": "markdown",
   "metadata": {},
   "source": [
    "The z-statistic is -4.10, and the p-value for this statistic is 0.00004, indicating that, again, the null hypothesis that race is not a factor in calls should be unambiguously rejected."
   ]
  },
  {
   "cell_type": "markdown",
   "metadata": {},
   "source": [
    "## Margin of error and confidence interval with z-statistic\n",
    "We will use 1.96 as the critical value of standard deviations for 95% of a population with a normal distribution, but will calculate margin of error (moe) using standard error while comparing these proportions."
   ]
  },
  {
   "cell_type": "code",
   "execution_count": 87,
   "metadata": {},
   "outputs": [
    {
     "name": "stdout",
     "output_type": "stream",
     "text": [
      "Difference between proportions: -0.0320328542094\n",
      "Margin of error: 0.0152819123109 95% confidence interval: -0.0473147665203 -0.0167509418986\n"
     ]
    }
   ],
   "source": [
    "moe = 1.96 * se\n",
    "ci_lower = diff_pr - moe\n",
    "ci_upper = diff_pr + moe\n",
    "print(\"Difference between proportions:\",diff_pr)\n",
    "print(\"Margin of error:\",moe, \"95% confidence interval:\",ci_lower,ci_upper)"
   ]
  },
  {
   "cell_type": "markdown",
   "metadata": {},
   "source": [
    "The difference between proportions (-0.032) for calls received by race falls within a 95% confidence interval of -0.047 to -0.017, calculated from the z-test of proportions."
   ]
  },
  {
   "cell_type": "markdown",
   "metadata": {},
   "source": [
    "## Permutation test\n",
    "A permutation test will be used to help us deduce whether differences we see in proportions of calls by race are likely to be meaningful over many permutations of sampling."
   ]
  },
  {
   "cell_type": "code",
   "execution_count": 88,
   "metadata": {},
   "outputs": [
    {
     "name": "stdout",
     "output_type": "stream",
     "text": [
      "P-value for influence of race on calls: 0.0\n"
     ]
    }
   ],
   "source": [
    "#Permutation replicate functions.\n",
    "def permutation_sample(data1, data2):\n",
    "    data = np.concatenate((data1, data2))\n",
    "    permuted_data = np.random.permutation(data)\n",
    "    perm_sample_1 = permuted_data[:len(data1)]\n",
    "    perm_sample_2 = permuted_data[len(data1):]\n",
    "    return perm_sample_1, perm_sample_2\n",
    "\n",
    "def draw_perm_reps(data1, data2, func, size=1):\n",
    "    perm_replicates = np.empty(size)\n",
    "    for l in range(size):\n",
    "        perm_sample_1, perm_sample_2 = permutation_sample(data1, data2)\n",
    "        perm_replicates[l] = func(perm_sample_1, perm_sample_2)\n",
    "    return perm_replicates\n",
    "\n",
    "def mean_diff(data1, data2):\n",
    "    diff_mean = np.mean(data1) - np.mean(data2)\n",
    "    return diff_mean\n",
    "\n",
    "#Applied to calls received by race.\n",
    "np.random.seed(74)\n",
    "raw_diff_means = mean_diff(w.call, b.call)\n",
    "perm_replicates = draw_perm_reps(w.call, b.call, mean_diff, size=10000)\n",
    "p_racecall = np.sum(perm_replicates >= raw_diff_means) / len(perm_replicates)\n",
    "print(\"P-value for influence of race on calls:\",p_racecall)"
   ]
  },
  {
   "cell_type": "markdown",
   "metadata": {},
   "source": [
    "This permutation test shows a p-value of 0.0, indicating that we should reject the null hypothesis. Taken together with the previous tests, this suggests that race has a meaningful impact on probability of receiving a call."
   ]
  },
  {
   "cell_type": "markdown",
   "metadata": {},
   "source": [
    "# Conclusion\n",
    "\n",
    "Each statistical test employed to answer the question of whether race impacts probability of receiving a call provides strong evidence that perception of race is a significant factor in whether an applicant receives a phone call. These tests are not comprehensive enough to address the relative strength of this connection compared with other attributes, but provide a strong enough signal to indicate that race is unambiguously a factor. To evaluate the relative impact of this versus other factors, further univariate tests of individual factors can be done. The most useful analysis would be multivariate in order to determine the impact of race in conjunction with other factors."
   ]
  }
 ],
 "metadata": {
  "kernelspec": {
   "display_name": "Python 3",
   "language": "python",
   "name": "python3"
  },
  "language_info": {
   "codemirror_mode": {
    "name": "ipython",
    "version": 3
   },
   "file_extension": ".py",
   "mimetype": "text/x-python",
   "name": "python",
   "nbconvert_exporter": "python",
   "pygments_lexer": "ipython3",
   "version": "3.6.1"
  }
 },
 "nbformat": 4,
 "nbformat_minor": 1
}
